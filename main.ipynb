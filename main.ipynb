{
 "cells": [
  {
   "cell_type": "markdown",
   "metadata": {
    "kernel": "SoS"
   },
   "source": [
    "# Annotation enhanced genetic fine-mapping\n",
    "\n",
    "## Aim"
   ]
  },
  {
   "cell_type": "markdown",
   "metadata": {
    "kernel": "SoS"
   },
   "source": [
    "This simulation study compares fine-mapping with use of annotations / without it, in terms of:\n",
    "\n",
    "1. Improvements in fine-mapping resolution: with the use of annotations we expect to provide smaller sets of candidate SNPs than without them.\n",
    "2. Improvements in power: the top signal from each candidate fine-mapping cluster is more likely to be the true causal signal when annotations are used."
   ]
  },
  {
   "cell_type": "markdown",
   "metadata": {
    "kernel": "SoS"
   },
   "source": [
    "## Simulation scheme\n",
    "\n",
    "### Genotype data\n",
    "\n",
    "We use real data genotypes from GTEx project, of ~600 European individual samples. We choose common variants (MAF > 1%). We create genomic regions (fine-mapping units) each containing 1,000 SNPs; thus retaining the realistic LD pattern between SNPs.\n",
    "\n",
    "### Phenotype data\n",
    "\n",
    "We assume each analysis unit contains 1, 2, or 3 causal variants. The genomic position of causal variants are simulated to associate with genomic annotations. From previous enrichment analysis of 5 annotations we estimate enrichment of GWAS signals in these regions with odds ratios ranging from 3.70 to 6.02, with mean 4.74. The 5 annotations physically cover a total of 13.36% of the genome. For simplicity we create for each analysis unit 5 non-overlapping consective regions with total length constituting 13.36% of the unit of interest. Let $p_1$ and $p_0$ denote causal probability of SNPs inside and outside these regions respectively, \n",
    "\n",
    "\\begin{align}\n",
    "\\gamma & = \\frac{p_1/1-p_1}{p_0/1-p_0} \\\\\n",
    "L & = [qp_1 + (1-q)p_0] \\times N\n",
    "\\end{align}\n",
    "\n",
    "where $\\gamma$ is the mean odds ratio ($\\gamma = 4.74$), $L$ is the number of causal variants in the region ($L = 1,2,3$), $N$ is total length of the region ($N=1000$), $q$ is proportion of annotation covered region ($q=0.1336$).\n",
    "\n",
    "To simulate phenotypes we assume for a causal variant an effect size $\\beta_j \\sim N(0, \\sigma^2)$. We simulate quantitive phenotypes, although in practice fine-mapping studies use summary statistics either from GWAS of case control data or quantitive traits. Specifically we generate phenotype from a linear model $y=X\\beta + E, E \\sim N(0, \\sigma_a^2)$. Relative strength of $\\sigma^2$ and $\\sigma_a$ are determined by percentage of variance explained (PVE) by all genetic effects. We set PVE to 0.1."
   ]
  },
  {
   "cell_type": "markdown",
   "metadata": {
    "kernel": "SoS"
   },
   "source": [
    "## Analysis\n",
    "\n",
    "We use DAP-G to analyze the data. We run and compare two versions of DAP-G: one that uses the \"oracle\" prior from enrichment based simulation, one uses uniform priors."
   ]
  },
  {
   "cell_type": "markdown",
   "metadata": {
    "kernel": "SoS"
   },
   "source": [
    "## DSC benchmark\n",
    "\n",
    "Simulate study is implemented in DSC framework. Input data are just matrices of genotypes."
   ]
  },
  {
   "cell_type": "markdown",
   "metadata": {
    "kernel": "SoS"
   },
   "source": [
    "### `zzz.dsc`"
   ]
  },
  {
   "cell_type": "code",
   "execution_count": 2,
   "metadata": {
    "kernel": "SoS"
   },
   "outputs": [
    {
     "data": {
      "text/html": [
       "<div class=\"sos_hint\">Cell content saved to <a href=\"modules/zzz.dsc\" target=\"_blank\">modules/zzz.dsc</a></div>"
      ],
      "text/plain": [
       "Cell content saved to modules/zzz.dsc\n"
      ]
     },
     "metadata": {},
     "output_type": "display_data"
    }
   ],
   "source": [
    "%save -f modules/zzz.dsc\n",
    "%include modules/simulate_prior\n",
    "%include modules/simulate_y\n",
    "%include modules/fit\n",
    "%include modules/evaluate"
   ]
  },
  {
   "cell_type": "markdown",
   "metadata": {
    "kernel": "SoS"
   },
   "source": [
    "### `master.dsc`"
   ]
  },
  {
   "cell_type": "code",
   "execution_count": 1,
   "metadata": {
    "kernel": "SoS"
   },
   "outputs": [
    {
     "data": {
      "text/html": [
       "<div class=\"sos_hint\">Cell content saved to <a href=\"master.dsc\" target=\"_blank\">master.dsc</a></div>"
      ],
      "text/plain": [
       "Cell content saved to master.dsc\n"
      ]
     },
     "metadata": {},
     "output_type": "display_data"
    }
   ],
   "source": [
    "%save -f master.dsc\n",
    "#!/usr/bin/env dsc\n",
    "%include modules/zzz\n",
    "\n",
    "DSC:\n",
    "    define:\n",
    "        fit: dap, dapa\n",
    "    run: simulate_prior * simulate_y * fit * evaluate\n",
    "    exec_path: modules\n",
    "    global:\n",
    "        data_file: gtex-manifest.txt"
   ]
  },
  {
   "cell_type": "markdown",
   "metadata": {
    "kernel": "SoS"
   },
   "source": [
    "### `simulate_prior.dsc`"
   ]
  },
  {
   "cell_type": "code",
   "execution_count": 9,
   "metadata": {
    "kernel": "SoS"
   },
   "outputs": [],
   "source": [
    "%save -f modules/simulate_prior.dsc\n",
    "\n",
    "simulate_prior: sim_utils.R + R(data = readRDS(dataset);\n",
    "                           X = get_loci(data$X, N);\n",
    "                           prior = get_prior(data$X, L, chunks, g, q))\n",
    "  dataset: Shell{head -150 ${data_file}}\n",
    "  N: 1000\n",
    "  L: 1, 2, 3\n",
    "  chunks: 5\n",
    "  g: \n",
    "  q: 0.1336\n",
    "  $X: X\n",
    "  $prior: prior"
   ]
  },
  {
   "cell_type": "markdown",
   "metadata": {
    "kernel": "SoS"
   },
   "source": [
    "### `simulate_y.dsc`"
   ]
  },
  {
   "cell_type": "code",
   "execution_count": 3,
   "metadata": {
    "kernel": "SoS"
   },
   "outputs": [
    {
     "data": {
      "text/html": [
       "<div class=\"sos_hint\">Cell content saved to <a href=\"modules/simulate_y.dsc\" target=\"_blank\">modules/simulate_y.dsc</a></div>"
      ],
      "text/plain": [
       "Cell content saved to modules/simulate_y.dsc\n"
      ]
     },
     "metadata": {},
     "output_type": "display_data"
    }
   ],
   "source": [
    "%save -f modules/simulate_y.dsc\n",
    "simulate_y: sim_utils.py + Python(data = simulate(X, prior, pve, amplitude))\n",
    "  X: $X\n",
    "  prior: $prior\n",
    "  pve: 0.1\n",
    "  amplitude: 0.6\n",
    "  $y: data['y']\n",
    "  $coef: data['coef']"
   ]
  },
  {
   "cell_type": "markdown",
   "metadata": {
    "kernel": "SoS"
   },
   "source": [
    "### `fit.dsc`"
   ]
  },
  {
   "cell_type": "code",
   "execution_count": 4,
   "metadata": {
    "kernel": "SoS"
   },
   "outputs": [
    {
     "data": {
      "text/html": [
       "<div class=\"sos_hint\">Cell content saved to <a href=\"modules/fit.dsc\" target=\"_blank\">modules/fit.dsc</a></div>"
      ],
      "text/plain": [
       "Cell content saved to modules/fit.dsc\n"
      ]
     },
     "metadata": {},
     "output_type": "display_data"
    }
   ],
   "source": [
    "%save -f modules/fit.dsc\n",
    "\n",
    "dap: fit_dap.py + Python(posterior = dap_batch(X, y, cache, args))\n",
    "  X: $X\n",
    "  y: $y\n",
    "  args: \"-ld_control 0.20 --all\"\n",
    "  cache: file(DAP)\n",
    "  $posterior: posterior\n",
    "\n",
    "dapa(dap): fit_dap.py + Python(posterior = dapa_batch(X, y, prior, cache, args))\n",
    "  prior: $prior"
   ]
  },
  {
   "cell_type": "markdown",
   "metadata": {
    "kernel": "SoS"
   },
   "source": [
    "### `evaluate.dsc`"
   ]
  },
  {
   "cell_type": "code",
   "execution_count": 13,
   "metadata": {
    "kernel": "SoS"
   },
   "outputs": [
    {
     "data": {
      "text/html": [
       "<div class=\"sos_hint\">Cell content saved to <a href=\"modules/evaluate.dsc\" target=\"_blank\">modules/evaluate.dsc</a></div>"
      ],
      "text/plain": [
       "Cell content saved to modules/evaluate.dsc\n"
      ]
     },
     "metadata": {},
     "output_type": "display_data"
    }
   ],
   "source": [
    "%save -f modules/evaluate.dsc\n",
    "\n",
    "evaluate: evaluate.R + R(e = evaluate(coef, posterior))\n",
    "  coef: $coef\n",
    "  posterior: $posterior\n",
    "  $num_recovered: e$num_recovered\n",
    "  $num_missed: e$num_missed\n",
    "  $is_top_true: e$is_top_true\n",
    "  $cluster_size: e$cluster_size"
   ]
  },
  {
   "cell_type": "markdown",
   "metadata": {
    "kernel": "SoS"
   },
   "source": [
    "## Simulation"
   ]
  },
  {
   "cell_type": "markdown",
   "metadata": {
    "kernel": "SoS"
   },
   "source": [
    "### `sim_utils.R`\n"
   ]
  },
  {
   "cell_type": "code",
   "execution_count": 14,
   "metadata": {
    "kernel": "SoS"
   },
   "outputs": [
    {
     "data": {
      "text/html": [
       "<div class=\"sos_hint\">Cell content saved to <a href=\"modules/sim_utils.R\" target=\"_blank\">modules/sim_utils.R</a></div>"
      ],
      "text/plain": [
       "Cell content saved to modules/sim_utils.R\n"
      ]
     },
     "metadata": {},
     "output_type": "display_data"
    }
   ],
   "source": [
    "%save -f modules/sim_utils.R\n",
    "get_center <- function(k,n) {\n",
    "  ## For given number k, get the range k surrounding n/2\n",
    "  ## but have to make sure it does not go over the bounds\n",
    "  if (is.null(k)) {\n",
    "      return(1:n)\n",
    "  }\n",
    "  start = floor(n/2 - k/2)\n",
    "  end = ceiling(n/2 + k/2)\n",
    "  if (start<1) start = 1\n",
    "  if (end>n) end = n\n",
    "  return(start:end)\n",
    "}"
   ]
  },
  {
   "cell_type": "markdown",
   "metadata": {
    "kernel": "SoS"
   },
   "source": [
    "## Fine-mapping with DAP"
   ]
  },
  {
   "cell_type": "markdown",
   "metadata": {
    "kernel": "SoS"
   },
   "source": [
    "### `fit_dap.py`"
   ]
  },
  {
   "cell_type": "markdown",
   "metadata": {
    "kernel": "SoS"
   },
   "source": [
    "DAP version 1 was published as Wen et al 2016 AJHG. Here William has polished the software `dap-g` with another manuscript that describes improved algorithm and working with summary statistics. This benchmark uses DAP version 2. Below is an example output that I parse and save.\n",
    "\n",
    "```\n",
    "Posterior expected model size: 0.500 (sd = 0.500)\n",
    "LogNC = -0.30685 ( Log10NC = -0.133 )\n",
    "Posterior inclusion probability\n",
    "\n",
    "((1))              7492 6.68581e-05       0.000 1\n",
    "((2))              7490 6.68581e-05       0.000 1\n",
    "... 7 lines\n",
    "((8))              7491 6.68046e-05       0.000 2\n",
    "((9))              7483 6.68046e-05       0.000 2\n",
    "((10))             7485 6.68046e-05       0.000 2\n",
    "... 13 lines\n",
    "((20))             7459 6.68046e-05       0.000 2\n",
    "((21))             7482 6.67422e-05       0.000 -1\n",
    "((22))             7489 6.67422e-05       0.000 -1\n",
    "... other lines until below ...\n",
    "\n",
    "Independent association signal clusters\n",
    "\n",
    "     cluster         member_snp      cluster_pip      average_r2\n",
    "       {1}              7            4.680e-04          0.951                 0.951   0.037\n",
    "       {2}             13            8.685e-04          0.623                 0.037   0.623\n",
    "\n",
    "```"
   ]
  },
  {
   "cell_type": "code",
   "execution_count": 22,
   "metadata": {
    "kernel": "Python3"
   },
   "outputs": [
    {
     "data": {
      "text/html": [
       "<div class=\"sos_hint\">Cell content saved to <a href=\"modules/fit_dap.py\" target=\"_blank\">modules/fit_dap.py</a></div>"
      ],
      "text/plain": [
       "Cell content saved to modules/fit_dap.py\n"
      ]
     },
     "metadata": {},
     "output_type": "display_data"
    }
   ],
   "source": [
    "%save -f modules/fit_dap.py\n",
    "import subprocess\n",
    "import pandas as pd\n",
    "import numpy as np\n",
    "\n",
    "def write_dap_full(x,y,prefix,r):\n",
    "    names = np.array([('geno', i+1, f'group{r}') for i in range(x.shape[1])])\n",
    "    with open(f'{prefix}.data', 'w') as f:\n",
    "        print(*(['pheno', 'pheno', f'group{r}'] + list(np.array(y).ravel())), file=f)\n",
    "        np.savetxt(f, np.hstack((names, x.T)), fmt = '%s', delimiter = ' ')\n",
    "#     grid = '''         \n",
    "#         0.0000  0.1000\n",
    "#         0.0000  0.2000\n",
    "#         0.0000  0.4000\n",
    "#         0.0000  0.8000\n",
    "#         0.0000  1.6000\n",
    "#         '''\n",
    "#     grid = '\\n'.join([x.strip() for x in grid.strip().split('\\n')])\n",
    "#     with open(f'{prefix}.grid', 'w') as f:\n",
    "#         print(grid, file=f)\n",
    "        \n",
    "def run_dap_full(prefix, args):\n",
    "    cmd = ['dap-g', '-d', f'{prefix}.data', '-o', f'{prefix}.result', '--output_all'] + ' '.join(args).split()\n",
    "    subprocess.Popen(cmd, stdout=subprocess.PIPE, stderr=subprocess.PIPE).communicate()    \n",
    "           \n",
    "def write_dap_ss(z,prefix):\n",
    "    '''z-score vesion of dap input is the same as FINEMAP'''\n",
    "    ids = np.array([str(i+1) for i in range(z.shape[0])])\n",
    "    with open(f'{prefix}.z', 'w') as f:\n",
    "        np.savetxt(f,  np.vstack((ids, z)).T, fmt = '%s', delimiter = ' ')\n",
    "\n",
    "def run_dap_z(ld, prefix, args):\n",
    "    cmd = ['dap-g', '-d_z', f'{prefix}.z', '-d_ld', ld, '-o', f'{prefix}.result', '--all'] + ' '.join(args).split()\n",
    "    subprocess.Popen(cmd, stdout=subprocess.PIPE, stderr=subprocess.PIPE).communicate()    \n",
    "    \n",
    "def extract_dap_output(prefix):\n",
    "    out = [x.strip().split() for x in open(f'{prefix}.result').readlines()]\n",
    "    pips = []\n",
    "    clusters = []\n",
    "    still_pip = True\n",
    "    for line in out:\n",
    "        if len(line) == 0:\n",
    "            continue\n",
    "        if len(line) > 2 and line[2] == 'cluster_pip':\n",
    "            still_pip = False\n",
    "            continue\n",
    "        if still_pip and (not line[0].startswith('((')):\n",
    "            continue\n",
    "        if still_pip:\n",
    "            pips.append([line[1], float(line[2]), float(line[3]), int(line[4])])\n",
    "        else:\n",
    "            clusters.append([len(clusters) + 1, float(line[2]), float(line[3])])\n",
    "    pips = pd.DataFrame(pips, columns = ['snp', 'snp_prob', 'snp_log10bf', 'cluster'])\n",
    "    clusters = pd.DataFrame(clusters, columns = ['cluster', 'cluster_prob', 'cluster_avg_r2'])\n",
    "    clusters = pd.merge(clusters, pips.groupby(['cluster'])['snp'].apply(','.join).reset_index(), on = 'cluster')\n",
    "    return {'snp': pips, 'set': clusters}\n",
    "\n",
    "def dap_single(x, y, prefix, r, args):\n",
    "    write_dap_full(x,y,prefix,r)\n",
    "    run_dap_full(prefix,args)\n",
    "    return extract_dap_output(prefix)\n",
    "\n",
    "def dap_single_z(z, ld, prefix, args):\n",
    "    write_dap_ss(z,prefix)\n",
    "    run_dap_z(ld,prefix,args)\n",
    "    return extract_dap_output(prefix)\n",
    "\n",
    "def dap_batch(X, Y, prefix, *args):\n",
    "    return dict([(r, dap_single(X, Y[:,r], f'{prefix}_condition_{r+1}', r+1, args)) for r in range(Y.shape[1])])\n",
    "\n",
    "def dap_batch_z(z, ld, prefix, *args):\n",
    "    return dict([(r, dap_single_z(z[:,r], ld, f'{prefix}_condition_{r+1}', args)) for r in range(z.shape[1])])"
   ]
  }
 ],
 "metadata": {
  "kernelspec": {
   "display_name": "SoS",
   "language": "sos",
   "name": "sos"
  },
  "language_info": {
   "codemirror_mode": "sos",
   "file_extension": ".sos",
   "mimetype": "text/x-sos",
   "name": "sos",
   "nbconvert_exporter": "sos_notebook.converter.SoS_Exporter",
   "pygments_lexer": "sos"
  },
  "sos": {
   "default_kernel": "SoS",
   "kernels": [
    [
     "Python3",
     "python3",
     "Python3",
     "#FFE771"
    ],
    [
     "R",
     "ir",
     "R",
     "#DCDCDA"
    ],
    [
     "SoS",
     "sos",
     "",
     ""
    ]
   ],
   "panel": {
    "displayed": true,
    "height": 0,
    "style": "side"
   },
   "version": "0.9.16.4"
  }
 },
 "nbformat": 4,
 "nbformat_minor": 2
}
