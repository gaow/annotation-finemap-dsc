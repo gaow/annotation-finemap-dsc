{
 "cells": [
  {
   "cell_type": "markdown",
   "metadata": {
    "kernel": "SoS"
   },
   "source": [
    "# Annotation enhanced genetic fine-mapping\n",
    "\n",
    "## Aim"
   ]
  },
  {
   "cell_type": "markdown",
   "metadata": {
    "kernel": "SoS"
   },
   "source": [
    "This simulation study compares fine-mapping with use of annotations / without it, in terms of:\n",
    "\n",
    "1. Improvements in fine-mapping resolution: with the use of annotations we expect to provide smaller sets of candidate SNPs than without them.\n",
    "2. Improvements in power: the top signal from each candidate fine-mapping cluster is more likely to be the true causal signal when annotations are used."
   ]
  },
  {
   "cell_type": "markdown",
   "metadata": {
    "kernel": "SoS"
   },
   "source": [
    "## Simulation scheme\n",
    "\n",
    "### Genotype data\n",
    "\n",
    "We use real data genotypes from GTEx project, of ~600 European individual samples. We choose common variants (MAF > 1%). We create genomic regions (fine-mapping units) each containing 1,000 SNPs; thus retaining the realistic LD pattern between SNPs.\n",
    "\n",
    "### Phenotype data\n",
    "\n",
    "We assume each analysis unit contains 1, 2, 3 or 4 causal variants. The genomic position of causal variants are simulated to associate with genomic annotations. From previous enrichment analysis of 5 annotations we estimate enrichment of GWAS signals in these regions with odds ratios ranging from 3.70 to 6.02, with mean 4.74. The 5 annotations physically cover a total of 13.36% of the genome. For simplicity we create for each analysis unit 5 non-overlapping consective regions with total length constituting 13.36% of the unit of interest. Let $p_1$ and $p_0$ denote causal probability of SNPs inside and outside these regions respectively, \n",
    "\n",
    "\\begin{align}\n",
    "\\gamma & = \\frac{p_1/1-p_1}{p_0/1-p_0} \\\\\n",
    "L & = [qp_1 + (1-q)p_0] \\times N\n",
    "\\end{align}\n",
    "\n",
    "where $\\gamma$ is the mean odds ratio ($\\gamma = 4.74$), $L$ is the number of causal variants in the region ($L = 1,2,3,4$), $N$ is total length of the region ($N=1000$), $q$ is proportion of annotation covered region ($q=0.1336$).\n",
    "\n",
    "To simulate phenotypes we assume for a causal variant an effect size $\\beta_j \\sim N(0, \\sigma^2)$. We generate phenotype from a linear model $y=X\\beta + E, E \\sim N(0, \\sigma_a^2)$. Relative strength of $\\sigma^2$ and $\\sigma_a$ are determined by percentage of variance explained (PVE) by all genetic effects. We set PVE to 0.1.\n",
    "\n",
    "### Caveats\n",
    "\n",
    "Here we only have ~600 genotype samples to work with. Also we simulated quantitive phenotypes. The type of GWAS of interest here typically involves hundreds of thousands of samples with binary disease outcome. However we argue that in practice we work with summary statistics, which are typically z-scores whether they are from GWAS of disease phenotypes or quantitative traits. Although generated from ~600 sample, the observed effect sizes $\\hat{\\beta}$ should have similar \"LD convoluted\" structure as they are from larger samples. So our settings here should be good enough."
   ]
  },
  {
   "cell_type": "markdown",
   "metadata": {
    "kernel": "SoS"
   },
   "source": [
    "## Analysis\n",
    "\n",
    "We use DAP-G to analyze the data. We run and compare two versions of DAP-G: one that uses the \"oracle\" prior from enrichment based simulation, one uses uniform priors."
   ]
  },
  {
   "cell_type": "markdown",
   "metadata": {
    "kernel": "SoS"
   },
   "source": [
    "## DSC benchmark\n",
    "\n",
    "Simulate study is implemented in DSC framework. Input data are just matrices of genotypes."
   ]
  },
  {
   "cell_type": "markdown",
   "metadata": {
    "kernel": "SoS"
   },
   "source": [
    "### `zzz.dsc`"
   ]
  },
  {
   "cell_type": "code",
   "execution_count": 1,
   "metadata": {
    "kernel": "SoS"
   },
   "outputs": [
    {
     "data": {
      "text/html": [
       "<div class=\"sos_hint\">Cell content saved to <a href=\"modules/zzz.dsc\" target=\"_blank\">modules/zzz.dsc</a></div>"
      ],
      "text/plain": [
       "Cell content saved to modules/zzz.dsc\n"
      ]
     },
     "metadata": {},
     "output_type": "display_data"
    }
   ],
   "source": [
    "%save -f modules/zzz.dsc\n",
    "%include modules/simulate_prior\n",
    "%include modules/simulate_y\n",
    "%include modules/fit\n",
    "%include modules/evaluate"
   ]
  },
  {
   "cell_type": "markdown",
   "metadata": {
    "kernel": "SoS"
   },
   "source": [
    "### `master.dsc`"
   ]
  },
  {
   "cell_type": "code",
   "execution_count": 2,
   "metadata": {
    "kernel": "SoS"
   },
   "outputs": [
    {
     "data": {
      "text/html": [
       "<div class=\"sos_hint\">Cell content saved to <a href=\"master.dsc\" target=\"_blank\">master.dsc</a></div>"
      ],
      "text/plain": [
       "Cell content saved to master.dsc\n"
      ]
     },
     "metadata": {},
     "output_type": "display_data"
    }
   ],
   "source": [
    "%save -f master.dsc\n",
    "#!/usr/bin/env dsc\n",
    "%include modules/zzz\n",
    "\n",
    "DSC:\n",
    "    define:\n",
    "        fit: dap, dapa\n",
    "    run: simulate_prior * simulate_y * fit * evaluate\n",
    "    exec_path: modules\n",
    "    global:\n",
    "        data_file: gtex-manifest.txt\n",
    "        n_units: 10\n",
    "    output: xh_grant"
   ]
  },
  {
   "cell_type": "markdown",
   "metadata": {
    "kernel": "SoS"
   },
   "source": [
    "### `simulate_prior.dsc`"
   ]
  },
  {
   "cell_type": "code",
   "execution_count": 3,
   "metadata": {
    "kernel": "SoS"
   },
   "outputs": [
    {
     "data": {
      "text/html": [
       "<div class=\"sos_hint\">Cell content saved to <a href=\"modules/simulate_prior.dsc\" target=\"_blank\">modules/simulate_prior.dsc</a></div>"
      ],
      "text/plain": [
       "Cell content saved to modules/simulate_prior.dsc\n"
      ]
     },
     "metadata": {},
     "output_type": "display_data"
    }
   ],
   "source": [
    "%save -f modules/simulate_prior.dsc\n",
    "\n",
    "simulate_prior: sim_prior.R + R(data = readRDS(dataset);\n",
    "                           X = get_loci(data$X, N);\n",
    "                           prior = get_prior(N, chunks, g, q))\n",
    "  dataset: Shell{head -${n_units} ${data_file}}\n",
    "  N: 1000\n",
    "  chunks: 5\n",
    "  g: 4.74\n",
    "  q: 0.1336\n",
    "  $X: X\n",
    "  $prior: prior$prior\n",
    "  $annotation: prior$annotation"
   ]
  },
  {
   "cell_type": "markdown",
   "metadata": {
    "kernel": "SoS"
   },
   "source": [
    "### `simulate_y.dsc`"
   ]
  },
  {
   "cell_type": "code",
   "execution_count": 4,
   "metadata": {
    "kernel": "SoS"
   },
   "outputs": [
    {
     "data": {
      "text/html": [
       "<div class=\"sos_hint\">Cell content saved to <a href=\"modules/simulate_y.dsc\" target=\"_blank\">modules/simulate_y.dsc</a></div>"
      ],
      "text/plain": [
       "Cell content saved to modules/simulate_y.dsc\n"
      ]
     },
     "metadata": {},
     "output_type": "display_data"
    }
   ],
   "source": [
    "%save -f modules/simulate_y.dsc\n",
    "simulate_y: sim_y.py + Python(coef, y, residual_var, L = simulate(X, prior, n_signal, pve, amplitude))\n",
    "  X: $X\n",
    "  prior: $prior\n",
    "  n_signal: 1, 2, 3, 4\n",
    "  pve: 0.1\n",
    "  amplitude: 0.6\n",
    "  $y: y\n",
    "  $coef: coef\n",
    "  $L: L\n",
    "  $residual_var: residual_var"
   ]
  },
  {
   "cell_type": "markdown",
   "metadata": {
    "kernel": "SoS"
   },
   "source": [
    "### `fit.dsc`"
   ]
  },
  {
   "cell_type": "code",
   "execution_count": 5,
   "metadata": {
    "kernel": "SoS"
   },
   "outputs": [
    {
     "data": {
      "text/html": [
       "<div class=\"sos_hint\">Cell content saved to <a href=\"modules/fit.dsc\" target=\"_blank\">modules/fit.dsc</a></div>"
      ],
      "text/plain": [
       "Cell content saved to modules/fit.dsc\n"
      ]
     },
     "metadata": {},
     "output_type": "display_data"
    }
   ],
   "source": [
    "%save -f modules/fit.dsc\n",
    "\n",
    "dap: fit_dap.py + Python(posterior = dap_batch(X, y, cache, None, args))\n",
    "  X: $X\n",
    "  y: $y\n",
    "  args: \"-ld_control 0.20 --all\"\n",
    "  cache: file(DAP)\n",
    "  $posterior: posterior\n",
    "\n",
    "dapa(dap): fit_dap.py + Python(posterior = dap_batch(X, y, cache, prior, args))\n",
    "  prior: $prior"
   ]
  },
  {
   "cell_type": "markdown",
   "metadata": {
    "kernel": "SoS"
   },
   "source": [
    "### `evaluate.dsc`"
   ]
  },
  {
   "cell_type": "code",
   "execution_count": 6,
   "metadata": {
    "kernel": "SoS"
   },
   "outputs": [
    {
     "data": {
      "text/html": [
       "<div class=\"sos_hint\">Cell content saved to <a href=\"modules/evaluate.dsc\" target=\"_blank\">modules/evaluate.dsc</a></div>"
      ],
      "text/plain": [
       "Cell content saved to modules/evaluate.dsc\n"
      ]
     },
     "metadata": {},
     "output_type": "display_data"
    }
   ],
   "source": [
    "%save -f modules/evaluate.dsc\n",
    "\n",
    "evaluate: evaluate_dap.py\n",
    "  coef: $coef\n",
    "  posterior: $posterior\n",
    "  $is_recovered: list(is_recovered.items())\n",
    "  $is_cs_true: list(is_cs_true.items())\n",
    "  $is_top_true: list(is_top_true.items())\n",
    "  $size: list(size.items())\n",
    "  $purity: list(purity.items())"
   ]
  },
  {
   "cell_type": "markdown",
   "metadata": {
    "kernel": "SoS"
   },
   "source": [
    "## Simulation"
   ]
  },
  {
   "cell_type": "markdown",
   "metadata": {
    "kernel": "SoS"
   },
   "source": [
    "### `sim_prior.R`\n",
    "\n",
    "From equations above, assuming $L=1$ we derive:\n",
    "\n",
    "\\begin{align}\n",
    "p_1 = \\frac{\\gamma p_0}{1 - p_0 + \\gamma p_0} \\\\\n",
    "N(q-1-\\gamma q + \\gamma)p_0^2 - (Nq - N - Nq\\gamma + \\gamma - 1)p_0 - 1= 0\n",
    "\\end{align}\n",
    "\n",
    "We can solve this numerically in R, eg:"
   ]
  },
  {
   "cell_type": "code",
   "execution_count": 7,
   "metadata": {
    "kernel": "R"
   },
   "outputs": [
    {
     "name": "stdout",
     "output_type": "stream",
     "text": [
      "[1] 0.000667518 0.003156156\n"
     ]
    }
   ],
   "source": [
    "g = 4.74\n",
    "N = 1000\n",
    "q = 0.1336\n",
    "foo = function(x) N * (q-1-g*q+g) * x^2 - (N*q-N-N*q*g+g-1) * x - 1\n",
    "p0 = uniroot(foo, lower=0, upper=1, tol = .Machine$double.eps^0.8)$root\n",
    "p1 = g * p0 / (1-p0+g*p0)\n",
    "print(c(p0,p1))"
   ]
  },
  {
   "cell_type": "code",
   "execution_count": 8,
   "metadata": {
    "kernel": "R"
   },
   "outputs": [
    {
     "name": "stdout",
     "output_type": "stream",
     "text": [
      "[1] 4.74\n",
      "[1] 1\n"
     ]
    }
   ],
   "source": [
    "# verify it:\n",
    "print(p1/(1-p1) / (p0 / (1-p0)))\n",
    "print(N * q * p1 + N * (1-q) * p0)"
   ]
  },
  {
   "cell_type": "markdown",
   "metadata": {
    "kernel": "SoS"
   },
   "source": [
    "We should be good. I'll use this in my simulation code below."
   ]
  },
  {
   "cell_type": "code",
   "execution_count": 9,
   "metadata": {
    "kernel": "R"
   },
   "outputs": [
    {
     "data": {
      "text/html": [
       "<div class=\"sos_hint\">Cell content saved to <a href=\"modules/sim_prior.R\" target=\"_blank\">modules/sim_prior.R</a></div>"
      ],
      "text/plain": [
       "Cell content saved to modules/sim_prior.R\n"
      ]
     },
     "metadata": {},
     "output_type": "display_data"
    }
   ],
   "source": [
    "%save -f modules/sim_prior.R\n",
    "get_loci = function(X, N) {\n",
    "    segs = floor(ncol(X) / N)\n",
    "    lapply(1:segs, function(i) X[,i:(i+N-1)])\n",
    "}\n",
    "get_prior = function(N, chunks, g, q) {\n",
    "    foo = function(x) N * (q-1-g*q+g) * x^2 - (N*q-N-N*q*g+g-1) * x - 1\n",
    "    p0 = uniroot(foo, lower=0, upper=1, tol = .Machine$double.eps^0.8)$root\n",
    "    p1 = g * p0 / (1-p0+g*p0)\n",
    "    per_chunk_len = N * q / chunks\n",
    "    n_bins = floor(N/chunks)\n",
    "    annotated = unlist(lapply(1:chunks, function(i) ((i-1) * n_bins + 1):((i-1) * n_bins + per_chunk_len)))\n",
    "    prior = rep(p0, N)\n",
    "    prior[annotated] = p1                          \n",
    "    list(prior=prior, annotation=annotated)                          \n",
    "}"
   ]
  },
  {
   "cell_type": "markdown",
   "metadata": {
    "kernel": "SoS"
   },
   "source": [
    "### `sim_y.py`"
   ]
  },
  {
   "cell_type": "code",
   "execution_count": 10,
   "metadata": {
    "kernel": "SoS"
   },
   "outputs": [
    {
     "data": {
      "text/html": [
       "<div class=\"sos_hint\">Cell content saved to <a href=\"modules/sim_y.py\" target=\"_blank\">modules/sim_y.py</a></div>"
      ],
      "text/plain": [
       "Cell content saved to modules/sim_y.py\n"
      ]
     },
     "metadata": {},
     "output_type": "display_data"
    }
   ],
   "source": [
    "%save -f modules/sim_y.py\n",
    "import numpy as np\n",
    "import os\n",
    "from pprint import pformat\n",
    "from collections import OrderedDict\n",
    "import time\n",
    "\n",
    "class RegressionData:\n",
    "    def __init__(self, X = None, Y = None, Z = None):\n",
    "        # FIXME: check if inputs are indeed numpy arrays\n",
    "        self.x_mean = self.y_mean = self.z_mean = None\n",
    "        self.X = X\n",
    "        self.Y = Y\n",
    "        self.Z = Z\n",
    "        if X is not None:\n",
    "            np.random.seed(sum(X))\n",
    "\n",
    "    def center_data(self):\n",
    "        # for np.array: np.mean(Z, axis=0, keepdims=True)\n",
    "        # for np.matrix, no keepdims argument\n",
    "        if self.X is not None and self.x_mean is None:\n",
    "            self.x_mean = np.mean(self.X, axis=0)\n",
    "            self.X -= self.x_mean\n",
    "        if self.Y is not None and self.y_mean is None:\n",
    "            self.y_mean = np.mean(self.Y, axis=0)\n",
    "            self.Y -= self.y_mean\n",
    "        if self.Z is not None and self.z_mean is None:\n",
    "            self.z_mean = np.mean(self.Z, axis=0)\n",
    "            self.Z -= self.z_mean\n",
    "\n",
    "    def __str__(self):\n",
    "        return pformat(self.__dict__, indent = 4)\n",
    "\n",
    "class UnivariateSimulator:\n",
    "    def __init__(self, dim):\n",
    "        self.size = dim\n",
    "        self.pi0 = 0\n",
    "        self.pis = []\n",
    "        self.mus = []\n",
    "        self.sigmas = []\n",
    "        self.coef = []\n",
    "        self.residual_variance = None\n",
    "        \n",
    "    def set_vanilla(self, amplitude):\n",
    "        self.pis = [1]\n",
    "        self.mus = [0]\n",
    "        self.sigmas = [amplitude]\n",
    "        \n",
    "    def get_effects(self):\n",
    "        '''\n",
    "        beta ~ \\pi_0\\delta_0 + \\sum \\pi_i N(mu_i, sigma_i)\n",
    "        '''\n",
    "        sigmas = np.diag(self.sigmas)\n",
    "        assert (len(self.pis), len(self.pis)) == sigmas.shape\n",
    "        masks = np.random.multinomial(1, self.pis, size = self.size)\n",
    "        mix = np.random.multivariate_normal(self.mus, sigmas, self.size)\n",
    "        self.coef = np.sum(mix * masks, axis = 1) * np.random.binomial(1, 1 - self.pi0, self.size)\n",
    "\n",
    "    def sparsify_effects(self, num_non_zero, prior):\n",
    "        # FIXME: might overlap if some prior is very high; thus not gauranteed to have num_non_zero non-zeros\n",
    "        ones = np.random.multinomial(num_non_zero, prior)\n",
    "        self.coef = self.coef * ones\n",
    "                \n",
    "    def get_y(self, regression_data, pve = None, sigma = None):\n",
    "        if sigma is None and pve is None:\n",
    "            raise ValueError('Need one of sigma or pve.')\n",
    "        if not (pve > 0 and pve < 1):\n",
    "            raise ValueError(f'PVE has to be between 0 and 1, not {pve}.')\n",
    "        if pve is not None:\n",
    "            genetic_var = np.var(np.dot(regression_data.X, self.coef.T))\n",
    "            pheno_var = genetic_var / pve\n",
    "            self.residual_variance = pheno_var - genetic_var\n",
    "        y = np.dot(regression_data.X, self.coef.T) + np.random.normal(0, np.sqrt(self.residual_variance), regression_data.X.shape[0])\n",
    "        # y.reshape(len(y), 1)\n",
    "        return y.T\n",
    "    \n",
    "def simple_lm(X, prior, c):\n",
    "    reg = RegressionData(X)\n",
    "    reg.center_data()\n",
    "    eff = UnivariateSimulator(reg.X.shape[1])\n",
    "    eff.set_vanilla(c['amplitude'])\n",
    "    eff.get_effects()\n",
    "    eff.sparsify_effects(c['n_signal'], prior)\n",
    "    y = eff.get_y(reg, pve = c['pve'])\n",
    "    return np.array(eff.coef).T, eff.residual_variance, y\n",
    "\n",
    "def simulate(X, prior, n_signal, pve, amplitude):\n",
    "    coef = {k:[] for k in X}\n",
    "    residual_var = []\n",
    "    y = {k:[] for k in X}\n",
    "    c = { 'n_signal': n_signal, 'pve': pve, 'amplitude': amplitude}\n",
    "    for k in X:\n",
    "        tmp = simple_lm(X[k], prior, c)\n",
    "        coef[k] = tmp[0]\n",
    "        residual_var.append(tmp[1])\n",
    "        y[k] = tmp[2]\n",
    "    return coef, y, residual_var, {k: sum(coef[k]!=0) for k in coef}"
   ]
  },
  {
   "cell_type": "markdown",
   "metadata": {
    "kernel": "SoS"
   },
   "source": [
    "## Fine-mapping with DAP"
   ]
  },
  {
   "cell_type": "markdown",
   "metadata": {
    "kernel": "SoS"
   },
   "source": [
    "### `fit_dap.py`"
   ]
  },
  {
   "cell_type": "markdown",
   "metadata": {
    "kernel": "SoS"
   },
   "source": [
    "Below is example output for DAP-G:\n",
    "\n",
    "```\n",
    "Posterior expected model size: 0.500 (sd = 0.500)\n",
    "LogNC = -0.30685 ( Log10NC = -0.133 )\n",
    "Posterior inclusion probability\n",
    "\n",
    "((1))              7492 6.68581e-05       0.000 1\n",
    "((2))              7490 6.68581e-05       0.000 1\n",
    "... 7 lines\n",
    "((8))              7491 6.68046e-05       0.000 2\n",
    "((9))              7483 6.68046e-05       0.000 2\n",
    "((10))             7485 6.68046e-05       0.000 2\n",
    "... 13 lines\n",
    "((20))             7459 6.68046e-05       0.000 2\n",
    "((21))             7482 6.67422e-05       0.000 -1\n",
    "((22))             7489 6.67422e-05       0.000 -1\n",
    "... other lines until below ...\n",
    "\n",
    "Independent association signal clusters\n",
    "\n",
    "     cluster         member_snp      cluster_pip      average_r2\n",
    "       {1}              7            4.680e-04          0.951                 0.951   0.037\n",
    "       {2}             13            8.685e-04          0.623                 0.037   0.623\n",
    "\n",
    "```"
   ]
  },
  {
   "cell_type": "code",
   "execution_count": 11,
   "metadata": {
    "kernel": "Python3"
   },
   "outputs": [
    {
     "data": {
      "text/html": [
       "<div class=\"sos_hint\">Cell content saved to <a href=\"modules/fit_dap.py\" target=\"_blank\">modules/fit_dap.py</a></div>"
      ],
      "text/plain": [
       "Cell content saved to modules/fit_dap.py\n"
      ]
     },
     "metadata": {},
     "output_type": "display_data"
    }
   ],
   "source": [
    "%save -f modules/fit_dap.py\n",
    "import subprocess\n",
    "import pandas as pd\n",
    "import numpy as np\n",
    "\n",
    "def write_dap_full(x,y,prefix,r):\n",
    "    names = np.array([('geno', i+1, f'group_{r}') for i in range(x.shape[1])])\n",
    "    with open(f'{prefix}.data', 'w') as f:\n",
    "        print(*(['pheno', 'pheno', f'group_{r}'] + list(np.array(y).ravel())), file=f)\n",
    "        np.savetxt(f, np.hstack((names, x.T)), fmt = '%s', delimiter = ' ')\n",
    "#     grid = '''         \n",
    "#         0.0000  0.1000\n",
    "#         0.0000  0.2000\n",
    "#         0.0000  0.4000\n",
    "#         0.0000  0.8000\n",
    "#         0.0000  1.6000\n",
    "#         '''\n",
    "#     grid = '\\n'.join([x.strip() for x in grid.strip().split('\\n')])\n",
    "#     with open(f'{prefix}.grid', 'w') as f:\n",
    "#         print(grid, file=f)\n",
    "\n",
    "def write_prior(prior, prefix):\n",
    "    with open(f'{prefix}.prior', 'w') as f:\n",
    "        f.write('\\n'.join([f'{i+1}\\t{p}' for i, p in enumerate(prior)]))\n",
    "\n",
    "def run_dap_full(prior, prefix, args):\n",
    "    cmd = ['dap-g', '-d', f'{prefix}.data', '-o', f'{prefix}.result', '--output_all'] + ' '.join(args).split()\n",
    "    if prior is not None:\n",
    "        cmd.extend(['-p', f'{prefix}.prior'])\n",
    "    subprocess.Popen(cmd, stdout=subprocess.PIPE, stderr=subprocess.PIPE).communicate()    \n",
    "\n",
    "def extract_dap_output(prefix):\n",
    "    out = [x.strip().split() for x in open(f'{prefix}.result').readlines()]\n",
    "    pips = []\n",
    "    clusters = []\n",
    "    still_pip = True\n",
    "    for line in out:\n",
    "        if len(line) == 0:\n",
    "            continue\n",
    "        if len(line) > 2 and line[2] == 'cluster_pip':\n",
    "            still_pip = False\n",
    "            continue\n",
    "        if still_pip and (not line[0].startswith('((')):\n",
    "            continue\n",
    "        if still_pip:\n",
    "            pips.append([line[1], float(line[2]), float(line[3]), int(line[4])])\n",
    "        else:\n",
    "            clusters.append([len(clusters) + 1, float(line[2]), float(line[3])])\n",
    "    pips = pd.DataFrame(pips, columns = ['snp', 'snp_prob', 'snp_log10bf', 'cluster'])\n",
    "    clusters = pd.DataFrame(clusters, columns = ['cluster', 'cluster_prob', 'cluster_avg_r2'])\n",
    "    clusters = pd.merge(clusters, pips.groupby(['cluster'])['snp'].apply(','.join).reset_index(), on = 'cluster')\n",
    "    return {'snp': pips, 'set': clusters}\n",
    "\n",
    "def dap_single(x, y, prefix, r, prior, args):\n",
    "    write_dap_full(x,y,prefix,r)\n",
    "    if prior is not None:\n",
    "        write_prior(prior, prefix)\n",
    "    run_dap_full(prior, prefix, args)\n",
    "    return extract_dap_output(prefix)\n",
    "\n",
    "\n",
    "def dap_batch(X, Y, prefix, prior, *args):\n",
    "    return dict([(k, dap_single(X[k], Y[k], f'{prefix}_condition_{k}', k, prior, args)) for k in X])"
   ]
  },
  {
   "cell_type": "markdown",
   "metadata": {
    "kernel": "SoS"
   },
   "source": [
    "## Evaluate results\n",
    "### `evaluate.py`"
   ]
  },
  {
   "cell_type": "code",
   "execution_count": 12,
   "metadata": {
    "kernel": "SoS"
   },
   "outputs": [
    {
     "data": {
      "text/html": [
       "<div class=\"sos_hint\">Cell content saved to <a href=\"modules/evaluate_dap.py\" target=\"_blank\">modules/evaluate_dap.py</a></div>"
      ],
      "text/plain": [
       "Cell content saved to modules/evaluate_dap.py\n"
      ]
     },
     "metadata": {},
     "output_type": "display_data"
    }
   ],
   "source": [
    "%save -f modules/evaluate_dap.py\n",
    "def dap_summary(cluster, snp, coef):\n",
    "    cluster = cluster.loc[cluster['cluster_prob'] > 0.95]\n",
    "    # to return\n",
    "    purity = cluster['cluster_prob'].tolist()\n",
    "    cluster = [x.split(',') for x in cluster['snp']]\n",
    "    signal_detected = sum(cluster, [])\n",
    "    signal_expected = [f'{idx+1}' for idx, i in enumerate(coef) if i != 0]\n",
    "    # to return\n",
    "    size = [len(c) for c in cluster]\n",
    "    snp = [snp.loc[snp['snp'].isin(c)] for c in cluster]\n",
    "    top_snp = [s.loc[s['snp_prob'] == max(s['snp_prob'])]['snp'].tolist()[0] for s in snp]\n",
    "    # to return\n",
    "    is_top_true = [1 if x in signal_expected else 0 for x in top_snp]\n",
    "    # to return\n",
    "    is_recovered = [1 if x in signal_detected else 0 for x in signal_expected]\n",
    "    # to return\n",
    "    is_cs_true = [1 if len(set(x).intersection(signal_expected)) else 0 for x in signal_detected]\n",
    "    return is_recovered, is_cs_true, is_top_true, size, purity\n",
    "\n",
    "is_recovered = dict()\n",
    "is_cs_true = dict()\n",
    "is_top_true = dict()\n",
    "size = dict()\n",
    "purity = dict()\n",
    "for k in posterior:\n",
    "    is_recovered[k], is_cs_true[k], is_top_true[k], size[k], purity[k] = dap_summary(posterior[k]['set'], posterior[k]['snp'], coef[k])    "
   ]
  },
  {
   "cell_type": "code",
   "execution_count": null,
   "metadata": {
    "kernel": "SoS"
   },
   "outputs": [],
   "source": []
  }
 ],
 "metadata": {
  "kernelspec": {
   "display_name": "SoS",
   "language": "sos",
   "name": "sos"
  },
  "language_info": {
   "codemirror_mode": "sos",
   "file_extension": ".sos",
   "mimetype": "text/x-sos",
   "name": "sos",
   "nbconvert_exporter": "sos_notebook.converter.SoS_Exporter",
   "pygments_lexer": "sos"
  },
  "sos": {
   "default_kernel": "SoS",
   "kernels": [
    [
     "Python3",
     "python3",
     "Python3",
     "#FFE771"
    ],
    [
     "R",
     "ir",
     "R",
     "#DCDCDA"
    ],
    [
     "SoS",
     "sos",
     "",
     ""
    ]
   ],
   "panel": {
    "displayed": true,
    "height": 0,
    "style": "side"
   },
   "version": "0.9.16.4"
  }
 },
 "nbformat": 4,
 "nbformat_minor": 2
}
