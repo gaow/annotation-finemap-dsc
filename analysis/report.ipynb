{
 "cells": [
  {
   "cell_type": "markdown",
   "metadata": {
    "kernel": "SoS"
   },
   "source": [
    "# Performance of annotation-enhanced fine-mapping"
   ]
  },
  {
   "cell_type": "markdown",
   "metadata": {
    "kernel": "SoS"
   },
   "source": [
    "Let's skip the formalities and dive directly into the results: power, false discovery proportion, top hit rate, size and purity."
   ]
  },
  {
   "cell_type": "markdown",
   "metadata": {
    "kernel": "SoS"
   },
   "source": [
    "## Results"
   ]
  },
  {
   "cell_type": "code",
   "execution_count": 1,
   "metadata": {
    "kernel": "R"
   },
   "outputs": [
    {
     "data": {
      "text/html": [
       "<table>\n",
       "<thead><tr><th></th><th scope=col>n_causal</th><th scope=col>DAP Power</th><th scope=col>aDAP Power</th><th scope=col>DAP FDP</th><th scope=col>aDAP FDP</th><th scope=col>DAP top hit rate</th><th scope=col>aDAP top hit rate</th><th scope=col>DAP size</th><th scope=col>aDAP size</th><th scope=col>DAP purity</th><th scope=col>aDAP purity</th></tr></thead>\n",
       "<tbody>\n",
       "\t<tr><th scope=row>1</th><td>1          </td><td>0.8310277  </td><td>0.8418972  </td><td>0.008254717</td><td>0.005834306</td><td>0.5648585  </td><td>0.5985998  </td><td> 5         </td><td> 5         </td><td>0.9926433  </td><td>0.9923635  </td></tr>\n",
       "\t<tr><th scope=row>2</th><td>2          </td><td>0.4693676  </td><td>0.4841897  </td><td>0.052472250</td><td>0.042490119</td><td>0.4530777  </td><td>0.5000000  </td><td> 8         </td><td> 8         </td><td>0.9918566  </td><td>0.9915608  </td></tr>\n",
       "\t<tr><th scope=row>3</th><td>3          </td><td>0.3224638  </td><td>0.3362978  </td><td>0.078336557</td><td>0.067605634</td><td>0.4187621  </td><td>0.4535211  </td><td>10         </td><td> 9         </td><td>0.9912941  </td><td>0.9911781  </td></tr>\n",
       "\t<tr><th scope=row>4</th><td>4          </td><td>0.2391304  </td><td>0.2532115  </td><td>0.093228656</td><td>0.084666040</td><td>0.3788027  </td><td>0.4252117  </td><td>11         </td><td>10         </td><td>0.9910341  </td><td>0.9910298  </td></tr>\n",
       "</tbody>\n",
       "</table>\n"
      ],
      "text/latex": [
       "\\begin{tabular}{r|lllllllllll}\n",
       "  & n\\_causal & DAP Power & aDAP Power & DAP FDP & aDAP FDP & DAP top hit rate & aDAP top hit rate & DAP size & aDAP size & DAP purity & aDAP purity\\\\\n",
       "\\hline\n",
       "\t1 & 1           & 0.8310277   & 0.8418972   & 0.008254717 & 0.005834306 & 0.5648585   & 0.5985998   &  5          &  5          & 0.9926433   & 0.9923635  \\\\\n",
       "\t2 & 2           & 0.4693676   & 0.4841897   & 0.052472250 & 0.042490119 & 0.4530777   & 0.5000000   &  8          &  8          & 0.9918566   & 0.9915608  \\\\\n",
       "\t3 & 3           & 0.3224638   & 0.3362978   & 0.078336557 & 0.067605634 & 0.4187621   & 0.4535211   & 10          &  9          & 0.9912941   & 0.9911781  \\\\\n",
       "\t4 & 4           & 0.2391304   & 0.2532115   & 0.093228656 & 0.084666040 & 0.3788027   & 0.4252117   & 11          & 10          & 0.9910341   & 0.9910298  \\\\\n",
       "\\end{tabular}\n"
      ],
      "text/markdown": [
       "\n",
       "| <!--/--> | n_causal | DAP Power | aDAP Power | DAP FDP | aDAP FDP | DAP top hit rate | aDAP top hit rate | DAP size | aDAP size | DAP purity | aDAP purity | \n",
       "|---|---|---|---|\n",
       "| 1 | 1           | 0.8310277   | 0.8418972   | 0.008254717 | 0.005834306 | 0.5648585   | 0.5985998   |  5          |  5          | 0.9926433   | 0.9923635   | \n",
       "| 2 | 2           | 0.4693676   | 0.4841897   | 0.052472250 | 0.042490119 | 0.4530777   | 0.5000000   |  8          |  8          | 0.9918566   | 0.9915608   | \n",
       "| 3 | 3           | 0.3224638   | 0.3362978   | 0.078336557 | 0.067605634 | 0.4187621   | 0.4535211   | 10          |  9          | 0.9912941   | 0.9911781   | \n",
       "| 4 | 4           | 0.2391304   | 0.2532115   | 0.093228656 | 0.084666040 | 0.3788027   | 0.4252117   | 11          | 10          | 0.9910341   | 0.9910298   | \n",
       "\n",
       "\n"
      ],
      "text/plain": [
       "  n_causal DAP Power aDAP Power DAP FDP     aDAP FDP    DAP top hit rate\n",
       "1 1        0.8310277 0.8418972  0.008254717 0.005834306 0.5648585       \n",
       "2 2        0.4693676 0.4841897  0.052472250 0.042490119 0.4530777       \n",
       "3 3        0.3224638 0.3362978  0.078336557 0.067605634 0.4187621       \n",
       "4 4        0.2391304 0.2532115  0.093228656 0.084666040 0.3788027       \n",
       "  aDAP top hit rate DAP size aDAP size DAP purity aDAP purity\n",
       "1 0.5985998          5        5        0.9926433  0.9923635  \n",
       "2 0.5000000          8        8        0.9918566  0.9915608  \n",
       "3 0.4535211         10        9        0.9912941  0.9911781  \n",
       "4 0.4252117         11       10        0.9910341  0.9910298  "
      ]
     },
     "metadata": {},
     "output_type": "display_data"
    }
   ],
   "source": [
    "readRDS(\"~/GIT/github/annotation-finemap/analysis/xh_grant/0818.summary.rds\")"
   ]
  },
  {
   "cell_type": "markdown",
   "metadata": {
    "kernel": "SoS"
   },
   "source": [
    "Workflow below was used to obtain this table."
   ]
  },
  {
   "cell_type": "markdown",
   "metadata": {
    "kernel": "SoS"
   },
   "source": [
    "## Results data processing\n",
    "\n",
    "To get the results,\n",
    "\n",
    "```\n",
    "sos run report.ipynb\n",
    "```"
   ]
  },
  {
   "cell_type": "code",
   "execution_count": null,
   "metadata": {
    "kernel": "SoS"
   },
   "outputs": [],
   "source": [
    "[global]\n",
    "parameter: cwd = path('~/GIT/github/annotation-finemap/analysis')\n",
    "parameter: date = '0818'\n",
    "dirname = path(f'{cwd:a}/xh_grant/')"
   ]
  },
  {
   "cell_type": "code",
   "execution_count": null,
   "metadata": {
    "kernel": "SoS"
   },
   "outputs": [],
   "source": [
    "[default_1]\n",
    "output: f'{dirname}/{date}.out.rds'\n",
    "R: expand = '${ }', workdir = cwd\n",
    "    out = dscrutils::dscquery(${dirname:br}, target = \"simulate_prior.dataset simulate_y.n_signal fit evaluate\", load.pkl = TRUE)\n",
    "    saveRDS(out, ${_output:r})"
   ]
  },
  {
   "cell_type": "code",
   "execution_count": null,
   "metadata": {
    "kernel": "SoS"
   },
   "outputs": [],
   "source": [
    "[default_2]\n",
    "cluster_cutoff = 0.95\n",
    "output: f'{_input:nn}.summary.rds'\n",
    "R: expand = '${ }', workdir = cwd\n",
    "    options(warn=2)\n",
    "    dat = readRDS(${_input:r})\n",
    "    n_signals = unique(dat$simulate_y.n_signal)\n",
    "    data_sets = unique(dat$simulate_prior.dataset)\n",
    "    dap = list()\n",
    "    dapa = list()\n",
    "    res = NULL\n",
    "    for (s in n_signals) {\n",
    "      dap[[s]] = list(power_d = 0, power_n = 0, fdp_d = 0, fdp_n = 0, hit_d = 0, hit_n = 0, size = vector(), purity = vector())\n",
    "      dapa[[s]] = list(power_d = 0, power_n = 0, fdp_d = 0, fdp_n = 0, hit_d = 0, hit_n = 0, size = vector(), purity = vector())\n",
    "      for (d in data_sets) {\n",
    "          ## for DAP\n",
    "          tmp = readRDS(paste0(\"${dirname}/\", dat[which(dat$fit == 'dap' & dat$simulate_y.n_signal == s & dat$simulate_prior.dataset == d), c('evaluate.output.file')], \".rds\"))\n",
    "          for (i in 1:length(tmp$is_recovered)) {\n",
    "              # power\n",
    "              dap[[s]]$power_d = dap[[s]]$power_d + ifelse(tmp$is_recovered[[i]][1] == 'failed', 0, sum(tmp$is_recovered[[i]]))\n",
    "              dap[[s]]$power_n = dap[[s]]$power_n + s\n",
    "              if (tmp$is_cs_true[[i]][1] != 'failed') {\n",
    "                  # fdp\n",
    "                  dap[[s]]$fdp_d = dap[[s]]$fdp_d + length(tmp$is_cs_true[[i]]) - sum(tmp$is_cs_true[[i]])\n",
    "                  dap[[s]]$fdp_n = dap[[s]]$fdp_n + length(tmp$is_cs_true[[i]])\n",
    "                  # top hit of cluster is signal\n",
    "                  dap[[s]]$hit_d = dap[[s]]$hit_d + sum(tmp$is_top_true[[i]])\n",
    "                  dap[[s]]$hit_n = dap[[s]]$hit_n + length(tmp$is_top_true[[i]])\n",
    "                  # size\n",
    "                  dap[[s]]$size = c(dap[[s]]$size, tmp$size[[i]])\n",
    "                  # purity\n",
    "                  dap[[s]]$purity = c(dap[[s]]$purity, tmp$purity[[i]])\n",
    "              }\n",
    "          }\n",
    "          ## for DAP with annotation\n",
    "          tmp = readRDS(paste0(\"${dirname}/\", dat[which(dat$fit == 'dapa' & dat$simulate_y.n_signal == s & dat$simulate_prior.dataset == d), c('evaluate.output.file')], \".rds\"))\n",
    "          for (i in 1:length(tmp$is_recovered)) {\n",
    "              # power\n",
    "              dapa[[s]]$power_d = dapa[[s]]$power_d + ifelse(tmp$is_recovered[[i]][1] == 'failed', 0, sum(tmp$is_recovered[[i]]))\n",
    "              dapa[[s]]$power_n = dapa[[s]]$power_n + s\n",
    "              if (tmp$is_cs_true[[i]][1] != 'failed') {\n",
    "                  # fdp\n",
    "                  dapa[[s]]$fdp_d = dapa[[s]]$fdp_d + length(tmp$is_cs_true[[i]]) - sum(tmp$is_cs_true[[i]])\n",
    "                  dapa[[s]]$fdp_n = dapa[[s]]$fdp_n + length(tmp$is_cs_true[[i]])\n",
    "                  # top hit in cluster is signal\n",
    "                  dapa[[s]]$hit_d = dapa[[s]]$hit_d + sum(tmp$is_top_true[[i]])\n",
    "                  dapa[[s]]$hit_n = dapa[[s]]$hit_n + length(tmp$is_top_true[[i]])\n",
    "                  # size\n",
    "                  dapa[[s]]$size = c(dapa[[s]]$size, tmp$size[[i]])\n",
    "                  # purity\n",
    "                  dapa[[s]]$purity = c(dapa[[s]]$purity, tmp$purity[[i]])\n",
    "              }\n",
    "          }\n",
    "      }\n",
    "      dap[[s]]$power = dap[[s]]$power_d / dap[[s]]$power_n\n",
    "      dap[[s]]$fdp = dap[[s]]$fdp_d / dap[[s]]$fdp_n    \n",
    "      dap[[s]]$hit = dap[[s]]$hit_d / dap[[s]]$hit_n\n",
    "      dap[[s]]$size = median(dap[[s]]$size)\n",
    "      dap[[s]]$purity = mean(dap[[s]]$purity)\n",
    "      #\n",
    "      dapa[[s]]$power = dapa[[s]]$power_d / dapa[[s]]$power_n\n",
    "      dapa[[s]]$fdp = dapa[[s]]$fdp_d / dapa[[s]]$fdp_n    \n",
    "      dapa[[s]]$hit = dapa[[s]]$hit_d / dapa[[s]]$hit_n\n",
    "      dapa[[s]]$size = median(dapa[[s]]$size)\n",
    "      dapa[[s]]$purity = mean(dapa[[s]]$purity)\n",
    "      line = c(s, dap[[s]]$power, dapa[[s]]$power, dap[[s]]$fdp, dapa[[s]]$fdp, dap[[s]]$hit, dapa[[s]]$hit, dap[[s]]$size, dapa[[s]]$size, dap[[s]]$purity, dapa[[s]]$purity)\n",
    "      if (s == 1) {\n",
    "        res = line\n",
    "      } else {\n",
    "        res = rbind(res, line)\n",
    "      }\n",
    "    }\n",
    "    colnames(res) = c('n_causal', 'DAP Power', 'aDAP Power', 'DAP FDP', 'aDAP FDP', 'DAP top hit rate', 'aDAP top hit rate', 'DAP size', 'aDAP size', 'DAP purity', 'aDAP purity')\n",
    "    rownames(res) = res[,1]\n",
    "    saveRDS(res, ${_output:r})"
   ]
  }
 ],
 "metadata": {
  "kernelspec": {
   "display_name": "SoS",
   "language": "sos",
   "name": "sos"
  },
  "language_info": {
   "codemirror_mode": "sos",
   "file_extension": ".sos",
   "mimetype": "text/x-sos",
   "name": "sos",
   "nbconvert_exporter": "sos_notebook.converter.SoS_Exporter",
   "pygments_lexer": "sos"
  },
  "sos": {
   "default_kernel": "SoS",
   "kernels": [
    [
     "R",
     "ir",
     "R",
     "#DCDCDA"
    ],
    [
     "SoS",
     "sos",
     "",
     ""
    ]
   ]
  }
 },
 "nbformat": 4,
 "nbformat_minor": 2
}
