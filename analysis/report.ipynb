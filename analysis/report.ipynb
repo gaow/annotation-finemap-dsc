{
 "cells": [
  {
   "cell_type": "markdown",
   "metadata": {
    "kernel": "SoS"
   },
   "source": [
    "# Performance of annotation-enhanced fine-mapping"
   ]
  },
  {
   "cell_type": "markdown",
   "metadata": {
    "kernel": "SoS"
   },
   "source": [
    "Let's skip the formalities and dive directly into the results: power, false discovery proportion, top hit rate, size and purity.\n",
    "\n",
    "\n",
    "To get the results,\n",
    "\n",
    "```\n",
    "sos run report.ipynb\n",
    "```"
   ]
  },
  {
   "cell_type": "code",
   "execution_count": null,
   "metadata": {
    "kernel": "SoS"
   },
   "outputs": [],
   "source": [
    "[global]\n",
    "parameter: cwd = path('~/GIT/github/annotation-finemap/analysis')\n",
    "parameter: date = '0818'\n",
    "dirname = path(f'{cwd:a}/xh_grant/')"
   ]
  },
  {
   "cell_type": "code",
   "execution_count": null,
   "metadata": {
    "kernel": "SoS"
   },
   "outputs": [],
   "source": [
    "[default_1]\n",
    "output: f'{dirname}/{date}.out.rds'\n",
    "R: expand = '${ }', workdir = cwd\n",
    "    out = dscrutils::dscquery(${dirname:br}, target = \"simulate_prior.dataset simulate_y.n_signal fit evaluate\", load.pkl = TRUE)\n",
    "    saveRDS(out, ${_output:r})"
   ]
  },
  {
   "cell_type": "code",
   "execution_count": null,
   "metadata": {
    "kernel": "SoS"
   },
   "outputs": [],
   "source": [
    "[default_2]\n",
    "cluster_cutoff = 0.95\n",
    "output: f'{_input:nn}.summary.rds'\n",
    "R: expand = '${ }', workdir = cwd\n",
    "    options(warn=2)\n",
    "    dat = readRDS(${_input:r})\n",
    "    n_signals = unique(dat$simulate_y.n_signal)\n",
    "    data_sets = unique(dat$simulate_prior.dataset)\n",
    "    dap = list()\n",
    "    dapa = list()\n",
    "    res = NULL\n",
    "    for (s in n_signals) {\n",
    "      dap[[s]] = list(power_d = 0, power_n = 0, fdp_d = 0, fdp_n = 0, hit_d = 0, hit_n = 0, size = vector(), purity = vector())\n",
    "      dapa[[s]] = list(power_d = 0, power_n = 0, fdp_d = 0, fdp_n = 0, hit_d = 0, hit_n = 0, size = vector(), purity = vector())\n",
    "      for (d in data_sets) {\n",
    "          ## for DAP\n",
    "          tmp = readRDS(paste0(\"${dirname}/\", dat[which(dat$fit == 'dap' & dat$simulate_y.n_signal == s & dat$simulate_prior.dataset == d), c('evaluate.output.file')], \".rds\"))\n",
    "          for (i in 1:length(tmp$is_recovered)) {\n",
    "              # power\n",
    "              dap[[s]]$power_d = dap[[s]]$power_d + ifelse(tmp$is_recovered[[i]][1] == 'failed', 0, sum(tmp$is_recovered[[i]]))\n",
    "              dap[[s]]$power_n = dap[[s]]$power_n + s\n",
    "              if (tmp$is_cs_true[[i]][1] != 'failed') {\n",
    "                  # fdp\n",
    "                  dap[[s]]$fdp_d = dap[[s]]$fdp_d + length(tmp$is_cs_true[[i]]) - sum(tmp$is_cs_true[[i]])\n",
    "                  dap[[s]]$fdp_n = dap[[s]]$fdp_n + length(tmp$is_cs_true[[i]])\n",
    "                  # top hit in cluster is signal\n",
    "                  dap[[s]]$hit_d = dap[[s]]$hit_d + sum(tmp$is_top_true[[i]])\n",
    "                  dap[[s]]$hit_n = dap[[s]]$hit_n + length(tmp$is_top_true[[i]])\n",
    "                  # size\n",
    "                  dap[[s]]$size = c(dap[[s]]$size, tmp$size[[i]])\n",
    "                  # purity\n",
    "                  dap[[s]]$purity = c(dap[[s]]$purity, tmp$purity[[i]])\n",
    "              }\n",
    "          }\n",
    "          ## for DAP with annotation\n",
    "          tmp = readRDS(paste0(\"${dirname}/\", dat[which(dat$fit == 'dapa' & dat$simulate_y.n_signal == s & dat$simulate_prior.dataset == d), c('evaluate.output.file')], \".rds\"))\n",
    "          for (i in 1:length(tmp$is_recovered)) {\n",
    "              # power\n",
    "              dapa[[s]]$power_d = dapa[[s]]$power_d + ifelse(tmp$is_recovered[[i]][1] == 'failed', 0, sum(tmp$is_recovered[[i]]))\n",
    "              dapa[[s]]$power_n = dapa[[s]]$power_n + s\n",
    "              if (tmp$is_cs_true[[i]][1] != 'failed') {\n",
    "                  # fdp\n",
    "                  dapa[[s]]$fdp_d = dapa[[s]]$fdp_d + length(tmp$is_cs_true[[i]]) - sum(tmp$is_cs_true[[i]])\n",
    "                  dapa[[s]]$fdp_n = dapa[[s]]$fdp_n + length(tmp$is_cs_true[[i]])\n",
    "                  # top hit in cluster is signal\n",
    "                  dapa[[s]]$hit_d = dapa[[s]]$hit_d + sum(tmp$is_top_true[[i]])\n",
    "                  dapa[[s]]$hit_n = dapa[[s]]$hit_n + length(tmp$is_top_true[[i]])\n",
    "                  # size\n",
    "                  dapa[[s]]$size = c(dapa[[s]]$size, tmp$size[[i]])\n",
    "                  # purity\n",
    "                  dapa[[s]]$purity = c(dapa[[s]]$purity, tmp$purity[[i]])\n",
    "              }\n",
    "          }\n",
    "      }\n",
    "      dap[[s]]$power = dap[[s]]$power_d / dap[[s]]$power_n\n",
    "      dap[[s]]$fdp = dap[[s]]$fdp_d / dap[[s]]$fdp_n    \n",
    "      dap[[s]]$hit = dap[[s]]$hit_d / dap[[s]]$hit_n\n",
    "      dap[[s]]$size = median(dap[[s]]$size)\n",
    "      dap[[s]]$purity = mean(dap[[s]]$purity)\n",
    "      dapa[[s]]$power = dapa[[s]]$power_d / dapa[[s]]$power_n\n",
    "      dapa[[s]]$fdp = dapa[[s]]$fdp_d / dapa[[s]]$fdp_n    \n",
    "      dapa[[s]]$hit = dapa[[s]]$hit_d / dapa[[s]]$hit_n\n",
    "      dapa[[s]]$size = median(dapa[[s]]$size)\n",
    "      dapa[[s]]$purity = mean(dapa[[s]]$purity)\n",
    "      line = c(s, dap[[s]]$power, dapa[[s]]$power, dap[[s]]$fdp, dapa[[s]]$fdp, dap[[s]]$hit, dapa[[s]]$hit, dap[[s]]$size, dapa[[s]]$size, dap[[s]]$purity, dapa[[s]]$purity)\n",
    "      if (s == 1) {\n",
    "        res = line\n",
    "      } else {\n",
    "        res = rbind(res, line)\n",
    "      }\n",
    "    }\n",
    "    colnames(res) = c('n_causal', 'DAP Power', 'aDAP Power', 'DAP FDP', 'aDAP FDP', 'DAP top hit rate', 'aDAP top hit rate', 'DAP size', 'aDAP size', 'DAP purity', 'aDAP purity')\n",
    "    rownames(res) = res[,1]\n",
    "    saveRDS(res, ${_output:r})"
   ]
  },
  {
   "cell_type": "code",
   "execution_count": 2,
   "metadata": {
    "kernel": "R"
   },
   "outputs": [
    {
     "data": {
      "text/html": [
       "<table>\n",
       "<thead><tr><th></th><th scope=col>n_causal</th><th scope=col>DAP Power</th><th scope=col>aDAP Power</th><th scope=col>DAP FDP</th><th scope=col>aDAP FDP</th><th scope=col>DAP top hit rate</th><th scope=col>aDAP top hit rate</th><th scope=col>DAP size</th><th scope=col>aDAP size</th><th scope=col>DAP purity</th><th scope=col>aDAP purity</th></tr></thead>\n",
       "<tbody>\n",
       "\t<tr><th scope=row>1</th><td>1         </td><td>0.8028169 </td><td>0.8169014 </td><td>0.00000000</td><td>0.00000000</td><td>0.5087719 </td><td>0.5172414 </td><td> 6        </td><td> 5.5      </td><td>0.9896211 </td><td>0.9897138 </td></tr>\n",
       "\t<tr><th scope=row>2</th><td>2         </td><td>0.5070423 </td><td>0.5140845 </td><td>0.02702703</td><td>0.01351351</td><td>0.4459459 </td><td>0.5405405 </td><td>10        </td><td> 9.5      </td><td>0.9901743 </td><td>0.9913230 </td></tr>\n",
       "\t<tr><th scope=row>3</th><td>3         </td><td>0.3239437 </td><td>0.3239437 </td><td>0.08000000</td><td>0.09210526</td><td>0.4000000 </td><td>0.3947368 </td><td>13        </td><td>11.0      </td><td>0.9910480 </td><td>0.9900447 </td></tr>\n",
       "\t<tr><th scope=row>4</th><td>4         </td><td>0.2535211 </td><td>0.2605634 </td><td>0.10666667</td><td>0.10389610</td><td>0.4000000 </td><td>0.4285714 </td><td>15        </td><td>14.0      </td><td>0.9871613 </td><td>0.9893442 </td></tr>\n",
       "</tbody>\n",
       "</table>\n"
      ],
      "text/latex": [
       "\\begin{tabular}{r|lllllllllll}\n",
       "  & n\\_causal & DAP Power & aDAP Power & DAP FDP & aDAP FDP & DAP top hit rate & aDAP top hit rate & DAP size & aDAP size & DAP purity & aDAP purity\\\\\n",
       "\\hline\n",
       "\t1 & 1          & 0.8028169  & 0.8169014  & 0.00000000 & 0.00000000 & 0.5087719  & 0.5172414  &  6         &  5.5       & 0.9896211  & 0.9897138 \\\\\n",
       "\t2 & 2          & 0.5070423  & 0.5140845  & 0.02702703 & 0.01351351 & 0.4459459  & 0.5405405  & 10         &  9.5       & 0.9901743  & 0.9913230 \\\\\n",
       "\t3 & 3          & 0.3239437  & 0.3239437  & 0.08000000 & 0.09210526 & 0.4000000  & 0.3947368  & 13         & 11.0       & 0.9910480  & 0.9900447 \\\\\n",
       "\t4 & 4          & 0.2535211  & 0.2605634  & 0.10666667 & 0.10389610 & 0.4000000  & 0.4285714  & 15         & 14.0       & 0.9871613  & 0.9893442 \\\\\n",
       "\\end{tabular}\n"
      ],
      "text/markdown": [
       "\n",
       "| <!--/--> | n_causal | DAP Power | aDAP Power | DAP FDP | aDAP FDP | DAP top hit rate | aDAP top hit rate | DAP size | aDAP size | DAP purity | aDAP purity | \n",
       "|---|---|---|---|\n",
       "| 1 | 1          | 0.8028169  | 0.8169014  | 0.00000000 | 0.00000000 | 0.5087719  | 0.5172414  |  6         |  5.5       | 0.9896211  | 0.9897138  | \n",
       "| 2 | 2          | 0.5070423  | 0.5140845  | 0.02702703 | 0.01351351 | 0.4459459  | 0.5405405  | 10         |  9.5       | 0.9901743  | 0.9913230  | \n",
       "| 3 | 3          | 0.3239437  | 0.3239437  | 0.08000000 | 0.09210526 | 0.4000000  | 0.3947368  | 13         | 11.0       | 0.9910480  | 0.9900447  | \n",
       "| 4 | 4          | 0.2535211  | 0.2605634  | 0.10666667 | 0.10389610 | 0.4000000  | 0.4285714  | 15         | 14.0       | 0.9871613  | 0.9893442  | \n",
       "\n",
       "\n"
      ],
      "text/plain": [
       "  n_causal DAP Power aDAP Power DAP FDP    aDAP FDP   DAP top hit rate\n",
       "1 1        0.8028169 0.8169014  0.00000000 0.00000000 0.5087719       \n",
       "2 2        0.5070423 0.5140845  0.02702703 0.01351351 0.4459459       \n",
       "3 3        0.3239437 0.3239437  0.08000000 0.09210526 0.4000000       \n",
       "4 4        0.2535211 0.2605634  0.10666667 0.10389610 0.4000000       \n",
       "  aDAP top hit rate DAP size aDAP size DAP purity aDAP purity\n",
       "1 0.5172414          6        5.5      0.9896211  0.9897138  \n",
       "2 0.5405405         10        9.5      0.9901743  0.9913230  \n",
       "3 0.3947368         13       11.0      0.9910480  0.9900447  \n",
       "4 0.4285714         15       14.0      0.9871613  0.9893442  "
      ]
     },
     "metadata": {},
     "output_type": "display_data"
    }
   ],
   "source": [
    "readRDS(\"~/GIT/github/annotation-finemap/analysis/xh_grant/0818.summary.rds\")"
   ]
  }
 ],
 "metadata": {
  "kernelspec": {
   "display_name": "SoS",
   "language": "sos",
   "name": "sos"
  },
  "language_info": {
   "codemirror_mode": "sos",
   "file_extension": ".sos",
   "mimetype": "text/x-sos",
   "name": "sos",
   "nbconvert_exporter": "sos_notebook.converter.SoS_Exporter",
   "pygments_lexer": "sos"
  },
  "sos": {
   "default_kernel": "SoS",
   "kernels": [
    [
     "R",
     "ir",
     "R",
     "#DCDCDA"
    ],
    [
     "SoS",
     "sos",
     "",
     ""
    ]
   ]
  }
 },
 "nbformat": 4,
 "nbformat_minor": 2
}
