{
 "cells": [
  {
   "cell_type": "markdown",
   "metadata": {
    "kernel": "SoS"
   },
   "source": [
    "# Performance of annotation-enhanced fine-mapping"
   ]
  },
  {
   "cell_type": "markdown",
   "metadata": {
    "kernel": "SoS"
   },
   "source": [
    "Let's skip the formalities and dive directly into the results: power, false discovery proportion, top hit rate, size and purity."
   ]
  },
  {
   "cell_type": "markdown",
   "metadata": {
    "kernel": "SoS"
   },
   "source": [
    "## Results"
   ]
  },
  {
   "cell_type": "code",
   "execution_count": 2,
   "metadata": {
    "kernel": "R"
   },
   "outputs": [
    {
     "data": {
      "text/html": [
       "<table>\n",
       "<thead><tr><th></th><th scope=col>Sample size</th><th scope=col>Annotation effect</th><th scope=col>DAP Power</th><th scope=col>aDAP Power</th><th scope=col>DAP FDP</th><th scope=col>aDAP FDP</th><th scope=col>DAP top hit rate</th><th scope=col>aDAP top hit rate</th><th scope=col>DAP size</th><th scope=col>aDAP size</th><th scope=col>DAP purity</th><th scope=col>aDAP purity</th></tr></thead>\n",
       "<tbody>\n",
       "\t<tr><th scope=row>1</th><td>50000                          </td><td>c(3,0.1336)                    </td><td>0.0679                         </td><td>0.0699                         </td><td>0.007                          </td><td>0.0201                         </td><td>0.4336                         </td><td>0.5034                         </td><td>7                              </td><td>7                              </td><td>0.9883                         </td><td>0.9862                         </td></tr>\n",
       "\t<tr><th scope=row>2</th><td>50000                          </td><td>list(c(3,55),c(0.1269,0.00668))</td><td>0.0665                         </td><td>0.0722                         </td><td>0.0071                         </td><td>0.0066                         </td><td>0.4071                         </td><td>0.5461                         </td><td>7                              </td><td>6                              </td><td>0.9883                         </td><td>0.9858                         </td></tr>\n",
       "\t<tr><th scope=row>3</th><td>80000                          </td><td>c(3,0.1336)                    </td><td>0.1402                         </td><td>0.1407                         </td><td>0.0101                         </td><td>0.0134                         </td><td>0.4797                         </td><td>0.557                          </td><td>6.5                            </td><td>6                              </td><td>0.9881                         </td><td>0.9882                         </td></tr>\n",
       "\t<tr><th scope=row>4</th><td>80000                          </td><td>list(c(3,55),c(0.1269,0.00668))</td><td>0.1392                         </td><td>0.1488                         </td><td>0.0034                         </td><td>0.0064                         </td><td>0.4795                         </td><td>0.5847                         </td><td>7                              </td><td>6                              </td><td>0.9879                         </td><td>0.9867                         </td></tr>\n",
       "\t<tr><th scope=row>5</th><td>150000                         </td><td>c(3,0.1336)                    </td><td>0.2407                         </td><td>0.2464                         </td><td>0.0059                         </td><td>0.0039                         </td><td>0.5494                         </td><td>0.6015                         </td><td>5                              </td><td>4                              </td><td>0.9911                         </td><td>0.9905                         </td></tr>\n",
       "\t<tr><th scope=row>6</th><td>150000                         </td><td>list(c(3,55),c(0.1269,0.00668))</td><td>0.2388                         </td><td>0.2579                         </td><td>0.004                          </td><td>0.0037                         </td><td>0.511                          </td><td>0.6654                         </td><td>6                              </td><td>4                              </td><td>0.9903                         </td><td>0.9888                         </td></tr>\n",
       "</tbody>\n",
       "</table>\n"
      ],
      "text/latex": [
       "\\begin{tabular}{r|llllllllllll}\n",
       "  & Sample size & Annotation effect & DAP Power & aDAP Power & DAP FDP & aDAP FDP & DAP top hit rate & aDAP top hit rate & DAP size & aDAP size & DAP purity & aDAP purity\\\\\n",
       "\\hline\n",
       "\t1 & 50000                           & c(3,0.1336)                     & 0.0679                          & 0.0699                          & 0.007                           & 0.0201                          & 0.4336                          & 0.5034                          & 7                               & 7                               & 0.9883                          & 0.9862                         \\\\\n",
       "\t2 & 50000                           & list(c(3,55),c(0.1269,0.00668)) & 0.0665                          & 0.0722                          & 0.0071                          & 0.0066                          & 0.4071                          & 0.5461                          & 7                               & 6                               & 0.9883                          & 0.9858                         \\\\\n",
       "\t3 & 80000                           & c(3,0.1336)                     & 0.1402                          & 0.1407                          & 0.0101                          & 0.0134                          & 0.4797                          & 0.557                           & 6.5                             & 6                               & 0.9881                          & 0.9882                         \\\\\n",
       "\t4 & 80000                           & list(c(3,55),c(0.1269,0.00668)) & 0.1392                          & 0.1488                          & 0.0034                          & 0.0064                          & 0.4795                          & 0.5847                          & 7                               & 6                               & 0.9879                          & 0.9867                         \\\\\n",
       "\t5 & 150000                          & c(3,0.1336)                     & 0.2407                          & 0.2464                          & 0.0059                          & 0.0039                          & 0.5494                          & 0.6015                          & 5                               & 4                               & 0.9911                          & 0.9905                         \\\\\n",
       "\t6 & 150000                          & list(c(3,55),c(0.1269,0.00668)) & 0.2388                          & 0.2579                          & 0.004                           & 0.0037                          & 0.511                           & 0.6654                          & 6                               & 4                               & 0.9903                          & 0.9888                         \\\\\n",
       "\\end{tabular}\n"
      ],
      "text/markdown": [
       "\n",
       "| <!--/--> | Sample size | Annotation effect | DAP Power | aDAP Power | DAP FDP | aDAP FDP | DAP top hit rate | aDAP top hit rate | DAP size | aDAP size | DAP purity | aDAP purity | \n",
       "|---|---|---|---|---|---|\n",
       "| 1 | 50000                           | c(3,0.1336)                     | 0.0679                          | 0.0699                          | 0.007                           | 0.0201                          | 0.4336                          | 0.5034                          | 7                               | 7                               | 0.9883                          | 0.9862                          | \n",
       "| 2 | 50000                           | list(c(3,55),c(0.1269,0.00668)) | 0.0665                          | 0.0722                          | 0.0071                          | 0.0066                          | 0.4071                          | 0.5461                          | 7                               | 6                               | 0.9883                          | 0.9858                          | \n",
       "| 3 | 80000                           | c(3,0.1336)                     | 0.1402                          | 0.1407                          | 0.0101                          | 0.0134                          | 0.4797                          | 0.557                           | 6.5                             | 6                               | 0.9881                          | 0.9882                          | \n",
       "| 4 | 80000                           | list(c(3,55),c(0.1269,0.00668)) | 0.1392                          | 0.1488                          | 0.0034                          | 0.0064                          | 0.4795                          | 0.5847                          | 7                               | 6                               | 0.9879                          | 0.9867                          | \n",
       "| 5 | 150000                          | c(3,0.1336)                     | 0.2407                          | 0.2464                          | 0.0059                          | 0.0039                          | 0.5494                          | 0.6015                          | 5                               | 4                               | 0.9911                          | 0.9905                          | \n",
       "| 6 | 150000                          | list(c(3,55),c(0.1269,0.00668)) | 0.2388                          | 0.2579                          | 0.004                           | 0.0037                          | 0.511                           | 0.6654                          | 6                               | 4                               | 0.9903                          | 0.9888                          | \n",
       "\n",
       "\n"
      ],
      "text/plain": [
       "  Sample size Annotation effect               DAP Power aDAP Power DAP FDP\n",
       "1 50000       c(3,0.1336)                     0.0679    0.0699     0.007  \n",
       "2 50000       list(c(3,55),c(0.1269,0.00668)) 0.0665    0.0722     0.0071 \n",
       "3 80000       c(3,0.1336)                     0.1402    0.1407     0.0101 \n",
       "4 80000       list(c(3,55),c(0.1269,0.00668)) 0.1392    0.1488     0.0034 \n",
       "5 150000      c(3,0.1336)                     0.2407    0.2464     0.0059 \n",
       "6 150000      list(c(3,55),c(0.1269,0.00668)) 0.2388    0.2579     0.004  \n",
       "  aDAP FDP DAP top hit rate aDAP top hit rate DAP size aDAP size DAP purity\n",
       "1 0.0201   0.4336           0.5034            7        7         0.9883    \n",
       "2 0.0066   0.4071           0.5461            7        6         0.9883    \n",
       "3 0.0134   0.4797           0.557             6.5      6         0.9881    \n",
       "4 0.0064   0.4795           0.5847            7        6         0.9879    \n",
       "5 0.0039   0.5494           0.6015            5        4         0.9911    \n",
       "6 0.0037   0.511            0.6654            6        4         0.9903    \n",
       "  aDAP purity\n",
       "1 0.9862     \n",
       "2 0.9858     \n",
       "3 0.9882     \n",
       "4 0.9867     \n",
       "5 0.9905     \n",
       "6 0.9888     "
      ]
     },
     "metadata": {},
     "output_type": "display_data"
    }
   ],
   "source": [
    "readRDS(\"~/GIT/github/annotation-finemap-dsc/analysis/xh_grant/0820.summary.rds\")"
   ]
  },
  {
   "cell_type": "markdown",
   "metadata": {
    "kernel": "SoS"
   },
   "source": [
    "The error bar should be around $\\sigma = 0.01$ in length ($\\sqrt{p(1-p)/N}$ where $N$ is 2,090). I plot $2\\sigma$."
   ]
  },
  {
   "cell_type": "code",
   "execution_count": 3,
   "metadata": {
    "kernel": "Python3"
   },
   "outputs": [
    {
     "name": "stdout",
     "output_type": "stream",
     "text": [
      "            method sample_size   thr\n",
      "0    No annotation         50K  0.42\n",
      "1         ATAC-seq         50K  0.50\n",
      "2  ATAC-seq + ASCA         50K  0.55\n",
      "3    No annotation         80K  0.48\n",
      "4         ATAC-seq         80K  0.55\n",
      "5  ATAC-seq + ASCA         80K  0.58\n",
      "6    No annotation        150K  0.53\n",
      "7         ATAC-seq        150K  0.60\n",
      "8  ATAC-seq + ASCA        150K  0.67\n"
     ]
    }
   ],
   "source": [
    "import pandas as pd\n",
    "import numpy as np\n",
    "import seaborn as sns\n",
    "import matplotlib.pyplot as plt\n",
    "\n",
    "m1, m2, m3 = 'No annotation', 'ATAC-seq', 'ATAC-seq + ASCA'\n",
    "s1, s2, s3 = '50K', '80K', '150K'\n",
    "data = pd.DataFrame({'method': [m1,m2,m3] * 3,\n",
    "                    'sample_size': [s1] * 3 + [s2] * 3 + [s3] * 3,\n",
    "                    'thr': [0.42, 0.50, 0.55, 0.48, 0.55, 0.58, 0.53, 0.60, 0.67]})\n",
    "print(data)"
   ]
  },
  {
   "cell_type": "code",
   "execution_count": 4,
   "metadata": {
    "kernel": "R"
   },
   "outputs": [],
   "source": [
    "%get data --from Python3"
   ]
  },
  {
   "cell_type": "code",
   "execution_count": 5,
   "metadata": {
    "kernel": "R"
   },
   "outputs": [
    {
     "data": {},
     "metadata": {},
     "output_type": "display_data"
    },
    {
     "data": {
      "image/png": "[encoded data removed]",
      "text/plain": [
       "plot without title"
      ]
     },
     "metadata": {},
     "output_type": "display_data"
    }
   ],
   "source": [
    "data$sd = 0.02\n",
    "data$method = factor(data$method, levels = c('No annotation', 'ATAC-seq', 'ATAC-seq + ASCA'))\n",
    "data$sample_size <- factor(data$sample_size, levels = c('50K', '80K', '150K'))\n",
    "library(ggplot2)\n",
    "p <- ggplot(data, aes(x=sample_size, y=thr, fill=method)) +\n",
    "    geom_bar(stat=\"identity\", position=position_dodge()) +\n",
    "    geom_errorbar(aes(ymin=thr-sd, ymax=thr+sd), width=.2, position=position_dodge(.9)) \n",
    "p + scale_fill_brewer(palette=\"Set2\") + theme_minimal() + xlab('Sample size') + \n",
    "    ylab('\"Top hit\" rate') + labs(fill=\"Method\") + coord_cartesian(ylim=c(0.2,0.75))\n",
    "# library(wesanderson)\n",
    "# p + scale_fill_manual(values=wes_palette(n=3, name=\"GrandBudapest2\")) + theme_minimal()"
   ]
  },
  {
   "cell_type": "markdown",
   "metadata": {
    "kernel": "SoS"
   },
   "source": [
    "Workflow below was used to obtain this table."
   ]
  },
  {
   "cell_type": "markdown",
   "metadata": {
    "kernel": "SoS"
   },
   "source": [
    "## Results data processing\n",
    "\n",
    "To get the results,\n",
    "\n",
    "```\n",
    "sos run report.ipynb\n",
    "```"
   ]
  },
  {
   "cell_type": "code",
   "execution_count": null,
   "metadata": {
    "kernel": "SoS"
   },
   "outputs": [],
   "source": [
    "[global]\n",
    "parameter: cwd = path('~/GIT/github/annotation-finemap-dsc/analysis')\n",
    "parameter: date = '0820'\n",
    "dirname = path(f'{cwd:a}/xh_grant/')"
   ]
  },
  {
   "cell_type": "code",
   "execution_count": null,
   "metadata": {
    "kernel": "SoS"
   },
   "outputs": [],
   "source": [
    "[default_1]\n",
    "output: f'{dirname}/{date}.out.rds'\n",
    "R: expand = '${ }', workdir = cwd\n",
    "    out = dscrutils::dscquery(${dirname:br}, target = \"sample_region.dataset simulate_prior.eparam simulate_z simulate_z.N fit evaluate\", load.pkl = TRUE)\n",
    "    saveRDS(out, ${_output:r})"
   ]
  },
  {
   "cell_type": "code",
   "execution_count": null,
   "metadata": {
    "kernel": "SoS"
   },
   "outputs": [],
   "source": [
    "[default_2]\n",
    "output: f'{_input:nn}.summary.rds'\n",
    "R: expand = '${ }', workdir = cwd\n",
    "    options(warn=2)\n",
    "    dat = readRDS(${_input:r})\n",
    "    ann = as.character(unique(dat$simulate_prior.eparam))\n",
    "    sample_size = unique(dat$simulate_z.N)\n",
    "    data_sets = unique(dat$sample_region.dataset)\n",
    "    dap = list()\n",
    "    dapa = list()\n",
    "    res = NULL\n",
    "    for (n in sample_size) {\n",
    "        for (a in ann) {\n",
    "          s = paste0(as.character(n), '_', as.character(a))\n",
    "          dap[[s]] = list(power_d = 0, power_n = 0, fdp_d = 0, fdp_n = 0, hit_d = 0, hit_n = 0, size = vector(), purity = vector())\n",
    "          dapa[[s]] = list(power_d = 0, power_n = 0, fdp_d = 0, fdp_n = 0, hit_d = 0, hit_n = 0, size = vector(), purity = vector())\n",
    "          for (d in data_sets) {\n",
    "              ## for DAP\n",
    "              fn = dat[which(dat$fit == 'dap' & dat$simulate_prior.eparam == a & dat$simulate_z.N == n & dat$sample_region.dataset == d), c('simulate_z.output.file', 'evaluate.output.file')][1,]\n",
    "              tmp = readRDS(paste0(\"${dirname}/\", fn[2], \".rds\"))\n",
    "              L = readRDS(paste0(\"${dirname}/\", fn[1], \".rds\"))$L\n",
    "              for (i in 1:length(tmp$is_recovered)) {\n",
    "                  # power\n",
    "                  dap[[s]]$power_d = dap[[s]]$power_d + ifelse(tmp$is_recovered[[i]][1] == 'failed', 0, sum(tmp$is_recovered[[i]]))\n",
    "                  dap[[s]]$power_n = dap[[s]]$power_n + L[[i]]\n",
    "                  if (tmp$is_cs_true[[i]][1] != 'failed') {\n",
    "                      # fdp\n",
    "                      dap[[s]]$fdp_d = dap[[s]]$fdp_d + length(tmp$is_cs_true[[i]]) - sum(tmp$is_cs_true[[i]])\n",
    "                      dap[[s]]$fdp_n = dap[[s]]$fdp_n + length(tmp$is_cs_true[[i]])\n",
    "                      # top hit of cluster is signal\n",
    "                      dap[[s]]$hit_d = dap[[s]]$hit_d + sum(tmp$is_top_true[[i]])\n",
    "                      dap[[s]]$hit_n = dap[[s]]$hit_n + length(tmp$is_top_true[[i]])\n",
    "                      # size\n",
    "                      dap[[s]]$size = c(dap[[s]]$size, tmp$size[[i]])\n",
    "                      # purity\n",
    "                      dap[[s]]$purity = c(dap[[s]]$purity, tmp$purity[[i]])\n",
    "                  }\n",
    "              }\n",
    "              ## for DAP with annotation\n",
    "              fn = dat[which(dat$fit == 'dapa' & dat$simulate_prior.eparam == a & dat$simulate_z.N == n & dat$sample_region.dataset == d), c('simulate_z.output.file', 'evaluate.output.file')][1,]\n",
    "              tmp = readRDS(paste0(\"${dirname}/\", fn[2], \".rds\"))\n",
    "              L = readRDS(paste0(\"${dirname}/\", fn[1], \".rds\"))$L\n",
    "              for (i in 1:length(tmp$is_recovered)) {\n",
    "                  # power\n",
    "                  dapa[[s]]$power_d = dapa[[s]]$power_d + ifelse(tmp$is_recovered[[i]][1] == 'failed', 0, sum(tmp$is_recovered[[i]]))\n",
    "                  dapa[[s]]$power_n = dapa[[s]]$power_n + + L[[i]]\n",
    "                  if (tmp$is_cs_true[[i]][1] != 'failed') {\n",
    "                      # fdp\n",
    "                      dapa[[s]]$fdp_d = dapa[[s]]$fdp_d + length(tmp$is_cs_true[[i]]) - sum(tmp$is_cs_true[[i]])\n",
    "                      dapa[[s]]$fdp_n = dapa[[s]]$fdp_n + length(tmp$is_cs_true[[i]])\n",
    "                      # top hit in cluster is signal\n",
    "                      dapa[[s]]$hit_d = dapa[[s]]$hit_d + sum(tmp$is_top_true[[i]])\n",
    "                      dapa[[s]]$hit_n = dapa[[s]]$hit_n + length(tmp$is_top_true[[i]])\n",
    "                      # size\n",
    "                      dapa[[s]]$size = c(dapa[[s]]$size, tmp$size[[i]])\n",
    "                      # purity\n",
    "                      dapa[[s]]$purity = c(dapa[[s]]$purity, tmp$purity[[i]])\n",
    "                  }\n",
    "              }\n",
    "          }\n",
    "          dap[[s]]$power = dap[[s]]$power_d / dap[[s]]$power_n\n",
    "          dap[[s]]$fdp = dap[[s]]$fdp_d / dap[[s]]$fdp_n    \n",
    "          dap[[s]]$hit = dap[[s]]$hit_d / dap[[s]]$hit_n\n",
    "          dap[[s]]$size = median(dap[[s]]$size)\n",
    "          dap[[s]]$purity = mean(dap[[s]]$purity)\n",
    "          #\n",
    "          dapa[[s]]$power = dapa[[s]]$power_d / dapa[[s]]$power_n\n",
    "          dapa[[s]]$fdp = dapa[[s]]$fdp_d / dapa[[s]]$fdp_n    \n",
    "          dapa[[s]]$hit = dapa[[s]]$hit_d / dapa[[s]]$hit_n\n",
    "          dapa[[s]]$size = median(dapa[[s]]$size)\n",
    "          dapa[[s]]$purity = mean(dapa[[s]]$purity)\n",
    "          line = c(n, a, round(c(dap[[s]]$power, dapa[[s]]$power, dap[[s]]$fdp, dapa[[s]]$fdp, dap[[s]]$hit, dapa[[s]]$hit, dap[[s]]$size, dapa[[s]]$size, dap[[s]]$purity, dapa[[s]]$purity), 4))\n",
    "          if (is.null(res)) {\n",
    "            res = line\n",
    "          } else {\n",
    "            res = rbind(res, line)\n",
    "          }\n",
    "        }\n",
    "    }\n",
    "    colnames(res) = c('Sample size', 'Annotation effect', 'DAP Power', 'aDAP Power', 'DAP FDP', 'aDAP FDP', 'DAP top hit rate', 'aDAP top hit rate', 'DAP size', 'aDAP size', 'DAP purity', 'aDAP purity')\n",
    "    rownames(res) = 1:nrow(res)\n",
    "    saveRDS(res, ${_output:r})"
   ]
  }
 ],
 "metadata": {
  "kernelspec": {
   "display_name": "SoS",
   "language": "sos",
   "name": "sos"
  },
  "language_info": {
   "codemirror_mode": "sos",
   "file_extension": ".sos",
   "mimetype": "text/x-sos",
   "name": "sos",
   "nbconvert_exporter": "sos_notebook.converter.SoS_Exporter",
   "pygments_lexer": "sos"
  },
  "sos": {
   "default_kernel": "SoS",
   "kernels": [
    [
     "Python3",
     "python3",
     "Python3",
     "#FFD91A"
    ],
    [
     "R",
     "ir",
     "R",
     "#DCDCDA"
    ],
    [
     "SoS",
     "sos",
     "",
     ""
    ]
   ]
  }
 },
 "nbformat": 4,
 "nbformat_minor": 2
}
