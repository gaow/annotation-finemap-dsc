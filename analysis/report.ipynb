{
 "cells": [
  {
   "cell_type": "markdown",
   "metadata": {
    "kernel": "SoS"
   },
   "source": [
    "# Performance of annotation-enhanced fine-mapping"
   ]
  },
  {
   "cell_type": "markdown",
   "metadata": {
    "kernel": "SoS"
   },
   "source": [
    "Let's skip the formalities and dive directly into the results: power, false discovery proportion, top hit rate, size and purity."
   ]
  },
  {
   "cell_type": "markdown",
   "metadata": {
    "kernel": "SoS"
   },
   "source": [
    "## Results"
   ]
  },
  {
   "cell_type": "code",
   "execution_count": 1,
   "metadata": {
    "kernel": "R"
   },
   "outputs": [
    {
     "data": {
      "text/html": [
       "<table>\n",
       "<thead><tr><th></th><th scope=col>OR</th><th scope=col>DAP Power</th><th scope=col>aDAP Power</th><th scope=col>DAP FDP</th><th scope=col>aDAP FDP</th><th scope=col>DAP top hit rate</th><th scope=col>aDAP top hit rate</th><th scope=col>DAP size</th><th scope=col>aDAP size</th><th scope=col>DAP purity</th><th scope=col>aDAP purity</th></tr></thead>\n",
       "<tbody>\n",
       "\t<tr><th scope=row>1</th><td>list(c(3,55),c(0.1269,0.00668))</td><td>0.1201                         </td><td>0.1297                         </td><td>0.0118                         </td><td>0.0145                         </td><td>0.437                          </td><td>0.5709                         </td><td>7                              </td><td>6                              </td><td>0.9884                         </td><td>0.9872                         </td></tr>\n",
       "\t<tr><th scope=row>2</th><td>list(c(5,55),c(0.1269,0.00668))</td><td>0.1263                         </td><td>0.134                          </td><td>0.0149                         </td><td>0.0141                         </td><td>0.4701                         </td><td>0.6056                         </td><td>7                              </td><td>5                              </td><td>0.9887                         </td><td>0.9877                         </td></tr>\n",
       "\t<tr><th scope=row>3</th><td>list(c(7,55),c(0.1269,0.00668))</td><td>0.1278                         </td><td>0.1359                         </td><td>0.0184                         </td><td>0.0139                         </td><td>0.4522                         </td><td>0.6215                         </td><td>7                              </td><td>6                              </td><td>0.9881                         </td><td>0.9868                         </td></tr>\n",
       "\t<tr><th scope=row>4</th><td>c(3,0.1336)                    </td><td>0.1239                         </td><td>0.1244                         </td><td>0.0152                         </td><td>0.0226                         </td><td>0.4639                         </td><td>0.5038                         </td><td>7                              </td><td>7                              </td><td>0.9876                         </td><td>0.9875                         </td></tr>\n",
       "\t<tr><th scope=row>5</th><td>c(5,0.1336)                    </td><td>0.1211                         </td><td>0.1215                         </td><td>0.0194                         </td><td>0.0193                         </td><td>0.4535                         </td><td>0.5676                         </td><td>8                              </td><td>7                              </td><td>0.988                          </td><td>0.9884                         </td></tr>\n",
       "\t<tr><th scope=row>6</th><td>c(7,0.1336)                    </td><td>0.1206                         </td><td>0.1268                         </td><td>0.0195                         </td><td>0.0149                         </td><td>0.4553                         </td><td>0.6134                         </td><td>6                              </td><td>6                              </td><td>0.9886                         </td><td>0.9875                         </td></tr>\n",
       "</tbody>\n",
       "</table>\n"
      ],
      "text/latex": [
       "\\begin{tabular}{r|lllllllllll}\n",
       "  & OR & DAP Power & aDAP Power & DAP FDP & aDAP FDP & DAP top hit rate & aDAP top hit rate & DAP size & aDAP size & DAP purity & aDAP purity\\\\\n",
       "\\hline\n",
       "\t1 & list(c(3,55),c(0.1269,0.00668)) & 0.1201                          & 0.1297                          & 0.0118                          & 0.0145                          & 0.437                           & 0.5709                          & 7                               & 6                               & 0.9884                          & 0.9872                         \\\\\n",
       "\t2 & list(c(5,55),c(0.1269,0.00668)) & 0.1263                          & 0.134                           & 0.0149                          & 0.0141                          & 0.4701                          & 0.6056                          & 7                               & 5                               & 0.9887                          & 0.9877                         \\\\\n",
       "\t3 & list(c(7,55),c(0.1269,0.00668)) & 0.1278                          & 0.1359                          & 0.0184                          & 0.0139                          & 0.4522                          & 0.6215                          & 7                               & 6                               & 0.9881                          & 0.9868                         \\\\\n",
       "\t4 & c(3,0.1336)                     & 0.1239                          & 0.1244                          & 0.0152                          & 0.0226                          & 0.4639                          & 0.5038                          & 7                               & 7                               & 0.9876                          & 0.9875                         \\\\\n",
       "\t5 & c(5,0.1336)                     & 0.1211                          & 0.1215                          & 0.0194                          & 0.0193                          & 0.4535                          & 0.5676                          & 8                               & 7                               & 0.988                           & 0.9884                         \\\\\n",
       "\t6 & c(7,0.1336)                     & 0.1206                          & 0.1268                          & 0.0195                          & 0.0149                          & 0.4553                          & 0.6134                          & 6                               & 6                               & 0.9886                          & 0.9875                         \\\\\n",
       "\\end{tabular}\n"
      ],
      "text/markdown": [
       "\n",
       "| <!--/--> | OR | DAP Power | aDAP Power | DAP FDP | aDAP FDP | DAP top hit rate | aDAP top hit rate | DAP size | aDAP size | DAP purity | aDAP purity | \n",
       "|---|---|---|---|---|---|\n",
       "| 1 | list(c(3,55),c(0.1269,0.00668)) | 0.1201                          | 0.1297                          | 0.0118                          | 0.0145                          | 0.437                           | 0.5709                          | 7                               | 6                               | 0.9884                          | 0.9872                          | \n",
       "| 2 | list(c(5,55),c(0.1269,0.00668)) | 0.1263                          | 0.134                           | 0.0149                          | 0.0141                          | 0.4701                          | 0.6056                          | 7                               | 5                               | 0.9887                          | 0.9877                          | \n",
       "| 3 | list(c(7,55),c(0.1269,0.00668)) | 0.1278                          | 0.1359                          | 0.0184                          | 0.0139                          | 0.4522                          | 0.6215                          | 7                               | 6                               | 0.9881                          | 0.9868                          | \n",
       "| 4 | c(3,0.1336)                     | 0.1239                          | 0.1244                          | 0.0152                          | 0.0226                          | 0.4639                          | 0.5038                          | 7                               | 7                               | 0.9876                          | 0.9875                          | \n",
       "| 5 | c(5,0.1336)                     | 0.1211                          | 0.1215                          | 0.0194                          | 0.0193                          | 0.4535                          | 0.5676                          | 8                               | 7                               | 0.988                           | 0.9884                          | \n",
       "| 6 | c(7,0.1336)                     | 0.1206                          | 0.1268                          | 0.0195                          | 0.0149                          | 0.4553                          | 0.6134                          | 6                               | 6                               | 0.9886                          | 0.9875                          | \n",
       "\n",
       "\n"
      ],
      "text/plain": [
       "  OR                              DAP Power aDAP Power DAP FDP aDAP FDP\n",
       "1 list(c(3,55),c(0.1269,0.00668)) 0.1201    0.1297     0.0118  0.0145  \n",
       "2 list(c(5,55),c(0.1269,0.00668)) 0.1263    0.134      0.0149  0.0141  \n",
       "3 list(c(7,55),c(0.1269,0.00668)) 0.1278    0.1359     0.0184  0.0139  \n",
       "4 c(3,0.1336)                     0.1239    0.1244     0.0152  0.0226  \n",
       "5 c(5,0.1336)                     0.1211    0.1215     0.0194  0.0193  \n",
       "6 c(7,0.1336)                     0.1206    0.1268     0.0195  0.0149  \n",
       "  DAP top hit rate aDAP top hit rate DAP size aDAP size DAP purity aDAP purity\n",
       "1 0.437            0.5709            7        6         0.9884     0.9872     \n",
       "2 0.4701           0.6056            7        5         0.9887     0.9877     \n",
       "3 0.4522           0.6215            7        6         0.9881     0.9868     \n",
       "4 0.4639           0.5038            7        7         0.9876     0.9875     \n",
       "5 0.4535           0.5676            8        7         0.988      0.9884     \n",
       "6 0.4553           0.6134            6        6         0.9886     0.9875     "
      ]
     },
     "metadata": {},
     "output_type": "display_data"
    }
   ],
   "source": [
    "readRDS(\"~/GIT/github/annotation-finemap-dsc/analysis/xh_grant/0819.summary.rds\")"
   ]
  },
  {
   "cell_type": "markdown",
   "metadata": {
    "kernel": "SoS"
   },
   "source": [
    "Workflow below was used to obtain this table."
   ]
  },
  {
   "cell_type": "markdown",
   "metadata": {
    "kernel": "SoS"
   },
   "source": [
    "## Results data processing\n",
    "\n",
    "To get the results,\n",
    "\n",
    "```\n",
    "sos run report.ipynb\n",
    "```"
   ]
  },
  {
   "cell_type": "code",
   "execution_count": null,
   "metadata": {
    "kernel": "SoS"
   },
   "outputs": [],
   "source": [
    "[global]\n",
    "parameter: cwd = path('~/GIT/github/annotation-finemap-dsc/analysis')\n",
    "parameter: date = '0819'\n",
    "dirname = path(f'{cwd:a}/xh_grant/')"
   ]
  },
  {
   "cell_type": "code",
   "execution_count": null,
   "metadata": {
    "kernel": "SoS"
   },
   "outputs": [],
   "source": [
    "[default_1]\n",
    "output: f'{dirname}/{date}.out.rds'\n",
    "R: expand = '${ }', workdir = cwd\n",
    "    out = dscrutils::dscquery(${dirname:br}, target = \"sample_region.dataset simulate_prior.eparam simulate_z fit evaluate\", load.pkl = TRUE)\n",
    "    saveRDS(out, ${_output:r})"
   ]
  },
  {
   "cell_type": "code",
   "execution_count": null,
   "metadata": {
    "kernel": "SoS"
   },
   "outputs": [],
   "source": [
    "[default_2]\n",
    "output: f'{_input:nn}.summary.rds'\n",
    "R: expand = '${ }', workdir = cwd\n",
    "    options(warn=2)\n",
    "    dat = readRDS(${_input:r})\n",
    "    odds_ratio = as.character(unique(dat$simulate_prior.eparam))\n",
    "    data_sets = unique(dat$sample_region.dataset)\n",
    "    dap = list()\n",
    "    dapa = list()\n",
    "    res = NULL\n",
    "    for (s in odds_ratio) {\n",
    "      dap[[s]] = list(power_d = 0, power_n = 0, fdp_d = 0, fdp_n = 0, hit_d = 0, hit_n = 0, size = vector(), purity = vector())\n",
    "      dapa[[s]] = list(power_d = 0, power_n = 0, fdp_d = 0, fdp_n = 0, hit_d = 0, hit_n = 0, size = vector(), purity = vector())\n",
    "      for (d in data_sets) {\n",
    "          ## for DAP\n",
    "          fn = dat[which(dat$fit == 'dap' & dat$simulate_prior.eparam == s & dat$sample_region.dataset == d), c('simulate_z.output.file', 'evaluate.output.file')][1,]\n",
    "          tmp = readRDS(paste0(\"${dirname}/\", fn[2], \".rds\"))\n",
    "          L = readRDS(paste0(\"${dirname}/\", fn[1], \".rds\"))$L\n",
    "          for (i in 1:length(tmp$is_recovered)) {\n",
    "              # power\n",
    "              dap[[s]]$power_d = dap[[s]]$power_d + ifelse(tmp$is_recovered[[i]][1] == 'failed', 0, sum(tmp$is_recovered[[i]]))\n",
    "              dap[[s]]$power_n = dap[[s]]$power_n + L[[i]]\n",
    "              if (tmp$is_cs_true[[i]][1] != 'failed') {\n",
    "                  # fdp\n",
    "                  dap[[s]]$fdp_d = dap[[s]]$fdp_d + length(tmp$is_cs_true[[i]]) - sum(tmp$is_cs_true[[i]])\n",
    "                  dap[[s]]$fdp_n = dap[[s]]$fdp_n + length(tmp$is_cs_true[[i]])\n",
    "                  # top hit of cluster is signal\n",
    "                  dap[[s]]$hit_d = dap[[s]]$hit_d + sum(tmp$is_top_true[[i]])\n",
    "                  dap[[s]]$hit_n = dap[[s]]$hit_n + length(tmp$is_top_true[[i]])\n",
    "                  # size\n",
    "                  dap[[s]]$size = c(dap[[s]]$size, tmp$size[[i]])\n",
    "                  # purity\n",
    "                  dap[[s]]$purity = c(dap[[s]]$purity, tmp$purity[[i]])\n",
    "              }\n",
    "          }\n",
    "          ## for DAP with annotation\n",
    "          fn = dat[which(dat$fit == 'dapa' & dat$simulate_prior.eparam == s & dat$sample_region.dataset == d), c('simulate_z.output.file', 'evaluate.output.file')][1,]\n",
    "          tmp = readRDS(paste0(\"${dirname}/\", fn[2], \".rds\"))\n",
    "          L = readRDS(paste0(\"${dirname}/\", fn[1], \".rds\"))$L\n",
    "          for (i in 1:length(tmp$is_recovered)) {\n",
    "              # power\n",
    "              dapa[[s]]$power_d = dapa[[s]]$power_d + ifelse(tmp$is_recovered[[i]][1] == 'failed', 0, sum(tmp$is_recovered[[i]]))\n",
    "              dapa[[s]]$power_n = dapa[[s]]$power_n + + L[[i]]\n",
    "              if (tmp$is_cs_true[[i]][1] != 'failed') {\n",
    "                  # fdp\n",
    "                  dapa[[s]]$fdp_d = dapa[[s]]$fdp_d + length(tmp$is_cs_true[[i]]) - sum(tmp$is_cs_true[[i]])\n",
    "                  dapa[[s]]$fdp_n = dapa[[s]]$fdp_n + length(tmp$is_cs_true[[i]])\n",
    "                  # top hit in cluster is signal\n",
    "                  dapa[[s]]$hit_d = dapa[[s]]$hit_d + sum(tmp$is_top_true[[i]])\n",
    "                  dapa[[s]]$hit_n = dapa[[s]]$hit_n + length(tmp$is_top_true[[i]])\n",
    "                  # size\n",
    "                  dapa[[s]]$size = c(dapa[[s]]$size, tmp$size[[i]])\n",
    "                  # purity\n",
    "                  dapa[[s]]$purity = c(dapa[[s]]$purity, tmp$purity[[i]])\n",
    "              }\n",
    "          }\n",
    "      }\n",
    "      dap[[s]]$power = dap[[s]]$power_d / dap[[s]]$power_n\n",
    "      dap[[s]]$fdp = dap[[s]]$fdp_d / dap[[s]]$fdp_n    \n",
    "      dap[[s]]$hit = dap[[s]]$hit_d / dap[[s]]$hit_n\n",
    "      dap[[s]]$size = median(dap[[s]]$size)\n",
    "      dap[[s]]$purity = mean(dap[[s]]$purity)\n",
    "      #\n",
    "      dapa[[s]]$power = dapa[[s]]$power_d / dapa[[s]]$power_n\n",
    "      dapa[[s]]$fdp = dapa[[s]]$fdp_d / dapa[[s]]$fdp_n    \n",
    "      dapa[[s]]$hit = dapa[[s]]$hit_d / dapa[[s]]$hit_n\n",
    "      dapa[[s]]$size = median(dapa[[s]]$size)\n",
    "      dapa[[s]]$purity = mean(dapa[[s]]$purity)\n",
    "      line = c(s, round(c(dap[[s]]$power, dapa[[s]]$power, dap[[s]]$fdp, dapa[[s]]$fdp, dap[[s]]$hit, dapa[[s]]$hit, dap[[s]]$size, dapa[[s]]$size, dap[[s]]$purity, dapa[[s]]$purity), 4))\n",
    "      if (is.null(res)) {\n",
    "        res = line\n",
    "      } else {\n",
    "        res = rbind(res, line)\n",
    "      }\n",
    "    }\n",
    "    colnames(res) = c('OR', 'DAP Power', 'aDAP Power', 'DAP FDP', 'aDAP FDP', 'DAP top hit rate', 'aDAP top hit rate', 'DAP size', 'aDAP size', 'DAP purity', 'aDAP purity')\n",
    "    rownames(res) = 1:nrow(res)\n",
    "    saveRDS(res, ${_output:r})"
   ]
  }
 ],
 "metadata": {
  "kernelspec": {
   "display_name": "SoS",
   "language": "sos",
   "name": "sos"
  },
  "language_info": {
   "codemirror_mode": "sos",
   "file_extension": ".sos",
   "mimetype": "text/x-sos",
   "name": "sos",
   "nbconvert_exporter": "sos_notebook.converter.SoS_Exporter",
   "pygments_lexer": "sos"
  },
  "sos": {
   "default_kernel": "SoS",
   "kernels": [
    [
     "R",
     "ir",
     "R",
     "#DCDCDA"
    ],
    [
     "SoS",
     "sos",
     "",
     ""
    ]
   ]
  }
 },
 "nbformat": 4,
 "nbformat_minor": 2
}
