{
 "cells": [
  {
   "cell_type": "markdown",
   "metadata": {
    "kernel": "SoS"
   },
   "source": [
    "# Performance of annotation-enhanced fine-mapping"
   ]
  },
  {
   "cell_type": "markdown",
   "metadata": {
    "kernel": "SoS"
   },
   "source": [
    "Let's skip the formalities and dive directly into the results: power, false discovery proportion, top hit rate, size and purity."
   ]
  },
  {
   "cell_type": "markdown",
   "metadata": {
    "kernel": "SoS"
   },
   "source": [
    "## Results"
   ]
  },
  {
   "cell_type": "code",
   "execution_count": 4,
   "metadata": {
    "kernel": "R"
   },
   "outputs": [
    {
     "data": {
      "text/html": [
       "<table>\n",
       "<thead><tr><th></th><th scope=col>OR</th><th scope=col>DAP Power</th><th scope=col>aDAP Power</th><th scope=col>DAP FDP</th><th scope=col>aDAP FDP</th><th scope=col>DAP top hit rate</th><th scope=col>aDAP top hit rate</th><th scope=col>DAP size</th><th scope=col>aDAP size</th><th scope=col>DAP purity</th><th scope=col>aDAP purity</th></tr></thead>\n",
       "<tbody>\n",
       "\t<tr><th scope=row>1</th><td>3.0   </td><td>0.1278</td><td>0.1282</td><td>0.0184</td><td>0.0255</td><td>0.4522</td><td>0.4655</td><td> 8.5  </td><td>8     </td><td>0.9880</td><td>0.9876</td></tr>\n",
       "\t<tr><th scope=row>2</th><td>4.5   </td><td>0.1273</td><td>0.1287</td><td>0.0148</td><td>0.0254</td><td>0.4481</td><td>0.5072</td><td> 9.0  </td><td>8     </td><td>0.9881</td><td>0.9872</td></tr>\n",
       "\t<tr><th scope=row>3</th><td>6.0   </td><td>0.1297</td><td>0.1340</td><td>0.0109</td><td>0.0210</td><td>0.4234</td><td>0.5245</td><td>10.0  </td><td>8     </td><td>0.9886</td><td>0.9871</td></tr>\n",
       "</tbody>\n",
       "</table>\n"
      ],
      "text/latex": [
       "\\begin{tabular}{r|lllllllllll}\n",
       "  & OR & DAP Power & aDAP Power & DAP FDP & aDAP FDP & DAP top hit rate & aDAP top hit rate & DAP size & aDAP size & DAP purity & aDAP purity\\\\\n",
       "\\hline\n",
       "\t1 & 3.0    & 0.1278 & 0.1282 & 0.0184 & 0.0255 & 0.4522 & 0.4655 &  8.5   & 8      & 0.9880 & 0.9876\\\\\n",
       "\t2 & 4.5    & 0.1273 & 0.1287 & 0.0148 & 0.0254 & 0.4481 & 0.5072 &  9.0   & 8      & 0.9881 & 0.9872\\\\\n",
       "\t3 & 6.0    & 0.1297 & 0.1340 & 0.0109 & 0.0210 & 0.4234 & 0.5245 & 10.0   & 8      & 0.9886 & 0.9871\\\\\n",
       "\\end{tabular}\n"
      ],
      "text/markdown": [
       "\n",
       "| <!--/--> | OR | DAP Power | aDAP Power | DAP FDP | aDAP FDP | DAP top hit rate | aDAP top hit rate | DAP size | aDAP size | DAP purity | aDAP purity | \n",
       "|---|---|---|\n",
       "| 1 | 3.0    | 0.1278 | 0.1282 | 0.0184 | 0.0255 | 0.4522 | 0.4655 |  8.5   | 8      | 0.9880 | 0.9876 | \n",
       "| 2 | 4.5    | 0.1273 | 0.1287 | 0.0148 | 0.0254 | 0.4481 | 0.5072 |  9.0   | 8      | 0.9881 | 0.9872 | \n",
       "| 3 | 6.0    | 0.1297 | 0.1340 | 0.0109 | 0.0210 | 0.4234 | 0.5245 | 10.0   | 8      | 0.9886 | 0.9871 | \n",
       "\n",
       "\n"
      ],
      "text/plain": [
       "  OR  DAP Power aDAP Power DAP FDP aDAP FDP DAP top hit rate aDAP top hit rate\n",
       "1 3.0 0.1278    0.1282     0.0184  0.0255   0.4522           0.4655           \n",
       "2 4.5 0.1273    0.1287     0.0148  0.0254   0.4481           0.5072           \n",
       "3 6.0 0.1297    0.1340     0.0109  0.0210   0.4234           0.5245           \n",
       "  DAP size aDAP size DAP purity aDAP purity\n",
       "1  8.5     8         0.9880     0.9876     \n",
       "2  9.0     8         0.9881     0.9872     \n",
       "3 10.0     8         0.9886     0.9871     "
      ]
     },
     "metadata": {},
     "output_type": "display_data"
    }
   ],
   "source": [
    "round(readRDS(\"~/GIT/github/annotation-finemap/analysis/xh_grant/0819.summary.rds\"), 4)"
   ]
  },
  {
   "cell_type": "markdown",
   "metadata": {
    "kernel": "SoS"
   },
   "source": [
    "Workflow below was used to obtain this table."
   ]
  },
  {
   "cell_type": "markdown",
   "metadata": {
    "kernel": "SoS"
   },
   "source": [
    "## Results data processing\n",
    "\n",
    "To get the results,\n",
    "\n",
    "```\n",
    "sos run report.ipynb\n",
    "```"
   ]
  },
  {
   "cell_type": "code",
   "execution_count": null,
   "metadata": {
    "kernel": "SoS"
   },
   "outputs": [],
   "source": [
    "[global]\n",
    "parameter: cwd = path('~/GIT/github/annotation-finemap/analysis')\n",
    "parameter: date = '0819'\n",
    "dirname = path(f'{cwd:a}/xh_grant/')"
   ]
  },
  {
   "cell_type": "code",
   "execution_count": null,
   "metadata": {
    "kernel": "SoS"
   },
   "outputs": [],
   "source": [
    "[default_1]\n",
    "output: f'{dirname}/{date}.out.rds'\n",
    "R: expand = '${ }', workdir = cwd\n",
    "    out = dscrutils::dscquery(${dirname:br}, target = \"simulate_region.dataset simulate_region.g simulate_z fit evaluate\", load.pkl = TRUE)\n",
    "    saveRDS(out, ${_output:r})"
   ]
  },
  {
   "cell_type": "code",
   "execution_count": null,
   "metadata": {
    "kernel": "SoS"
   },
   "outputs": [],
   "source": [
    "[default_2]\n",
    "output: f'{_input:nn}.summary.rds'\n",
    "R: expand = '${ }', workdir = cwd\n",
    "    options(warn=2)\n",
    "    dat = readRDS(${_input:r})\n",
    "    odds_ratio = as.character(unique(dat$simulate_region.g))\n",
    "    data_sets = unique(dat$simulate_region.dataset)\n",
    "    dap = list()\n",
    "    dapa = list()\n",
    "    res = NULL\n",
    "    for (s in odds_ratio) {\n",
    "      dap[[s]] = list(power_d = 0, power_n = 0, fdp_d = 0, fdp_n = 0, hit_d = 0, hit_n = 0, size = vector(), purity = vector())\n",
    "      dapa[[s]] = list(power_d = 0, power_n = 0, fdp_d = 0, fdp_n = 0, hit_d = 0, hit_n = 0, size = vector(), purity = vector())\n",
    "      for (d in data_sets) {\n",
    "          ## for DAP\n",
    "          fn = dat[which(dat$fit == 'dap' & dat$simulate_region.g == as.double(s) & dat$simulate_region.dataset == d), c('simulate_z.output.file', 'evaluate.output.file')][1,]\n",
    "          tmp = readRDS(paste0(\"${dirname}/\", fn[2], \".rds\"))\n",
    "          L = readRDS(paste0(\"${dirname}/\", fn[1], \".rds\"))$L\n",
    "          for (i in 1:length(tmp$is_recovered)) {\n",
    "              # power\n",
    "              dap[[s]]$power_d = dap[[s]]$power_d + ifelse(tmp$is_recovered[[i]][1] == 'failed', 0, sum(tmp$is_recovered[[i]]))\n",
    "              dap[[s]]$power_n = dap[[s]]$power_n + L[[i]]\n",
    "              if (tmp$is_cs_true[[i]][1] != 'failed') {\n",
    "                  # fdp\n",
    "                  dap[[s]]$fdp_d = dap[[s]]$fdp_d + length(tmp$is_cs_true[[i]]) - sum(tmp$is_cs_true[[i]])\n",
    "                  dap[[s]]$fdp_n = dap[[s]]$fdp_n + length(tmp$is_cs_true[[i]])\n",
    "                  # top hit of cluster is signal\n",
    "                  dap[[s]]$hit_d = dap[[s]]$hit_d + sum(tmp$is_top_true[[i]])\n",
    "                  dap[[s]]$hit_n = dap[[s]]$hit_n + length(tmp$is_top_true[[i]])\n",
    "                  # size\n",
    "                  dap[[s]]$size = c(dap[[s]]$size, tmp$size[[i]])\n",
    "                  # purity\n",
    "                  dap[[s]]$purity = c(dap[[s]]$purity, tmp$purity[[i]])\n",
    "              }\n",
    "          }\n",
    "          ## for DAP with annotation\n",
    "          fn = dat[which(dat$fit == 'dapa' & dat$simulate_region.g == as.double(s) & dat$simulate_region.dataset == d), c('simulate_z.output.file', 'evaluate.output.file')][1,]\n",
    "          tmp = readRDS(paste0(\"${dirname}/\", fn[2], \".rds\"))\n",
    "          L = readRDS(paste0(\"${dirname}/\", fn[1], \".rds\"))$L\n",
    "          for (i in 1:length(tmp$is_recovered)) {\n",
    "              # power\n",
    "              dapa[[s]]$power_d = dapa[[s]]$power_d + ifelse(tmp$is_recovered[[i]][1] == 'failed', 0, sum(tmp$is_recovered[[i]]))\n",
    "              dapa[[s]]$power_n = dapa[[s]]$power_n + + L[[i]]\n",
    "              if (tmp$is_cs_true[[i]][1] != 'failed') {\n",
    "                  # fdp\n",
    "                  dapa[[s]]$fdp_d = dapa[[s]]$fdp_d + length(tmp$is_cs_true[[i]]) - sum(tmp$is_cs_true[[i]])\n",
    "                  dapa[[s]]$fdp_n = dapa[[s]]$fdp_n + length(tmp$is_cs_true[[i]])\n",
    "                  # top hit in cluster is signal\n",
    "                  dapa[[s]]$hit_d = dapa[[s]]$hit_d + sum(tmp$is_top_true[[i]])\n",
    "                  dapa[[s]]$hit_n = dapa[[s]]$hit_n + length(tmp$is_top_true[[i]])\n",
    "                  # size\n",
    "                  dapa[[s]]$size = c(dapa[[s]]$size, tmp$size[[i]])\n",
    "                  # purity\n",
    "                  dapa[[s]]$purity = c(dapa[[s]]$purity, tmp$purity[[i]])\n",
    "              }\n",
    "          }\n",
    "      }\n",
    "      dap[[s]]$power = dap[[s]]$power_d / dap[[s]]$power_n\n",
    "      dap[[s]]$fdp = dap[[s]]$fdp_d / dap[[s]]$fdp_n    \n",
    "      dap[[s]]$hit = dap[[s]]$hit_d / dap[[s]]$hit_n\n",
    "      dap[[s]]$size = median(dap[[s]]$size)\n",
    "      dap[[s]]$purity = mean(dap[[s]]$purity)\n",
    "      #\n",
    "      dapa[[s]]$power = dapa[[s]]$power_d / dapa[[s]]$power_n\n",
    "      dapa[[s]]$fdp = dapa[[s]]$fdp_d / dapa[[s]]$fdp_n    \n",
    "      dapa[[s]]$hit = dapa[[s]]$hit_d / dapa[[s]]$hit_n\n",
    "      dapa[[s]]$size = median(dapa[[s]]$size)\n",
    "      dapa[[s]]$purity = mean(dapa[[s]]$purity)\n",
    "      line = c(as.double(s), dap[[s]]$power, dapa[[s]]$power, dap[[s]]$fdp, dapa[[s]]$fdp, dap[[s]]$hit, dapa[[s]]$hit, dap[[s]]$size, dapa[[s]]$size, dap[[s]]$purity, dapa[[s]]$purity)\n",
    "      if (is.null(res)) {\n",
    "        res = line\n",
    "      } else {\n",
    "        res = rbind(res, line)\n",
    "      }\n",
    "    }\n",
    "    colnames(res) = c('OR', 'DAP Power', 'aDAP Power', 'DAP FDP', 'aDAP FDP', 'DAP top hit rate', 'aDAP top hit rate', 'DAP size', 'aDAP size', 'DAP purity', 'aDAP purity')\n",
    "    rownames(res) = 1:nrow(res)\n",
    "    saveRDS(res, ${_output:r})"
   ]
  }
 ],
 "metadata": {
  "kernelspec": {
   "display_name": "SoS",
   "language": "sos",
   "name": "sos"
  },
  "language_info": {
   "codemirror_mode": "sos",
   "file_extension": ".sos",
   "mimetype": "text/x-sos",
   "name": "sos",
   "nbconvert_exporter": "sos_notebook.converter.SoS_Exporter",
   "pygments_lexer": "sos"
  },
  "sos": {
   "default_kernel": "SoS",
   "kernels": [
    [
     "R",
     "ir",
     "R",
     "#DCDCDA"
    ],
    [
     "SoS",
     "sos",
     "",
     ""
    ]
   ]
  }
 },
 "nbformat": 4,
 "nbformat_minor": 2
}
