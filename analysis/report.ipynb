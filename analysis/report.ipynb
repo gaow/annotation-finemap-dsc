{
 "cells": [
  {
   "cell_type": "markdown",
   "metadata": {
    "kernel": "SoS"
   },
   "source": [
    "# Performance of annotation-enhanced fine-mapping"
   ]
  },
  {
   "cell_type": "markdown",
   "metadata": {
    "kernel": "SoS"
   },
   "source": [
    "Let's skip the formalities and dive directly into the results: power, false discovery proportion, top hit rate, size and purity."
   ]
  },
  {
   "cell_type": "markdown",
   "metadata": {
    "kernel": "SoS"
   },
   "source": [
    "## Results"
   ]
  },
  {
   "cell_type": "code",
   "execution_count": null,
   "metadata": {
    "kernel": "R"
   },
   "outputs": [],
   "source": [
    "readRDS(\"~/GIT/github/annotation-finemap/analysis/xh_grant/0819.summary.rds\")"
   ]
  },
  {
   "cell_type": "markdown",
   "metadata": {
    "kernel": "SoS"
   },
   "source": [
    "Workflow below was used to obtain this table."
   ]
  },
  {
   "cell_type": "markdown",
   "metadata": {
    "kernel": "SoS"
   },
   "source": [
    "## Results data processing\n",
    "\n",
    "To get the results,\n",
    "\n",
    "```\n",
    "sos run report.ipynb\n",
    "```"
   ]
  },
  {
   "cell_type": "code",
   "execution_count": null,
   "metadata": {
    "kernel": "SoS"
   },
   "outputs": [],
   "source": [
    "[global]\n",
    "parameter: cwd = path('~/GIT/github/annotation-finemap/analysis')\n",
    "parameter: date = '0819'\n",
    "dirname = path(f'{cwd:a}/xh_grant/')"
   ]
  },
  {
   "cell_type": "code",
   "execution_count": null,
   "metadata": {
    "kernel": "SoS"
   },
   "outputs": [],
   "source": [
    "[default_1]\n",
    "output: f'{dirname}/{date}.out.rds'\n",
    "R: expand = '${ }', workdir = cwd\n",
    "    out = dscrutils::dscquery(${dirname:br}, target = \"simulate_region.dataset simulate_region.g simulate_z.n_signal fit evaluate\", load.pkl = TRUE)\n",
    "    saveRDS(out, ${_output:r})"
   ]
  },
  {
   "cell_type": "code",
   "execution_count": null,
   "metadata": {
    "kernel": "SoS"
   },
   "outputs": [],
   "source": [
    "[default_2]\n",
    "cluster_cutoff = 0.95\n",
    "output: f'{_input:nn}.summary.rds'\n",
    "R: expand = '${ }', workdir = cwd\n",
    "    options(warn=2)\n",
    "    dat = readRDS(${_input:r})\n",
    "    odds_ratio = as.character(unique(dat$simulate_region.g))\n",
    "    data_sets = unique(dat$simulate_region.dataset)\n",
    "    dap = list()\n",
    "    dapa = list()\n",
    "    res = NULL\n",
    "    for (s in odds_ratio) {\n",
    "      dap[[s]] = list(power_d = 0, power_n = 0, fdp_d = 0, fdp_n = 0, hit_d = 0, hit_n = 0, size = vector(), purity = vector())\n",
    "      dapa[[s]] = list(power_d = 0, power_n = 0, fdp_d = 0, fdp_n = 0, hit_d = 0, hit_n = 0, size = vector(), purity = vector())\n",
    "      for (d in data_sets) {\n",
    "          ## for DAP\n",
    "          tmp = readRDS(paste0(\"${dirname}/\", dat[which(dat$fit == 'dap' & dat$simulate_region.g == as.double(s) & dat$simulate_region.dataset == d), c('simulate_z.n_signal', 'evaluate.output.file')], \".rds\"))\n",
    "          for (i in 1:length(tmp$is_recovered)) {\n",
    "              # power\n",
    "              dap[[s]]$power_d = dap[[s]]$power_d + ifelse(tmp$is_recovered[[i]][1] == 'failed', 0, sum(tmp$is_recovered[[i]]))\n",
    "              dap[[s]]$power_n = dap[[s]]$power_n + tmp$simulate_z.n_signal[1]\n",
    "              if (tmp$is_cs_true[[i]][1] != 'failed') {\n",
    "                  # fdp\n",
    "                  dap[[s]]$fdp_d = dap[[s]]$fdp_d + length(tmp$is_cs_true[[i]]) - sum(tmp$is_cs_true[[i]])\n",
    "                  dap[[s]]$fdp_n = dap[[s]]$fdp_n + length(tmp$is_cs_true[[i]])\n",
    "                  # top hit of cluster is signal\n",
    "                  dap[[s]]$hit_d = dap[[s]]$hit_d + sum(tmp$is_top_true[[i]])\n",
    "                  dap[[s]]$hit_n = dap[[s]]$hit_n + length(tmp$is_top_true[[i]])\n",
    "                  # size\n",
    "                  dap[[s]]$size = c(dap[[s]]$size, tmp$size[[i]])\n",
    "                  # purity\n",
    "                  dap[[s]]$purity = c(dap[[s]]$purity, tmp$purity[[i]])\n",
    "              }\n",
    "          }\n",
    "          ## for DAP with annotation\n",
    "          tmp = readRDS(paste0(\"${dirname}/\", dat[which(dat$fit == 'dapa' & dat$simulate_region.g == as.double(s) & dat$simulate_region.dataset == d), c('simulate_z.n_signal', 'evaluate.output.file')], \".rds\"))\n",
    "          for (i in 1:length(tmp$is_recovered)) {\n",
    "              # power\n",
    "              dapa[[s]]$power_d = dapa[[s]]$power_d + ifelse(tmp$is_recovered[[i]][1] == 'failed', 0, sum(tmp$is_recovered[[i]]))\n",
    "              dapa[[s]]$power_n = dapa[[s]]$power_n + tmp$simulate_z.n_signal[1]\n",
    "              if (tmp$is_cs_true[[i]][1] != 'failed') {\n",
    "                  # fdp\n",
    "                  dapa[[s]]$fdp_d = dapa[[s]]$fdp_d + length(tmp$is_cs_true[[i]]) - sum(tmp$is_cs_true[[i]])\n",
    "                  dapa[[s]]$fdp_n = dapa[[s]]$fdp_n + length(tmp$is_cs_true[[i]])\n",
    "                  # top hit in cluster is signal\n",
    "                  dapa[[s]]$hit_d = dapa[[s]]$hit_d + sum(tmp$is_top_true[[i]])\n",
    "                  dapa[[s]]$hit_n = dapa[[s]]$hit_n + length(tmp$is_top_true[[i]])\n",
    "                  # size\n",
    "                  dapa[[s]]$size = c(dapa[[s]]$size, tmp$size[[i]])\n",
    "                  # purity\n",
    "                  dapa[[s]]$purity = c(dapa[[s]]$purity, tmp$purity[[i]])\n",
    "              }\n",
    "          }\n",
    "      }\n",
    "      dap[[s]]$power = dap[[s]]$power_d / dap[[s]]$power_n\n",
    "      dap[[s]]$fdp = dap[[s]]$fdp_d / dap[[s]]$fdp_n    \n",
    "      dap[[s]]$hit = dap[[s]]$hit_d / dap[[s]]$hit_n\n",
    "      dap[[s]]$size = median(dap[[s]]$size)\n",
    "      dap[[s]]$purity = mean(dap[[s]]$purity)\n",
    "      #\n",
    "      dapa[[s]]$power = dapa[[s]]$power_d / dapa[[s]]$power_n\n",
    "      dapa[[s]]$fdp = dapa[[s]]$fdp_d / dapa[[s]]$fdp_n    \n",
    "      dapa[[s]]$hit = dapa[[s]]$hit_d / dapa[[s]]$hit_n\n",
    "      dapa[[s]]$size = median(dapa[[s]]$size)\n",
    "      dapa[[s]]$purity = mean(dapa[[s]]$purity)\n",
    "      line = c(s, dap[[s]]$power, dapa[[s]]$power, dap[[s]]$fdp, dapa[[s]]$fdp, dap[[s]]$hit, dapa[[s]]$hit, dap[[s]]$size, dapa[[s]]$size, dap[[s]]$purity, dapa[[s]]$purity)\n",
    "      if (is.null(res)) {\n",
    "        res = line\n",
    "      } else {\n",
    "        res = rbind(res, line)\n",
    "      }\n",
    "    }\n",
    "    colnames(res) = c('OR', 'DAP Power', 'aDAP Power', 'DAP FDP', 'aDAP FDP', 'DAP top hit rate', 'aDAP top hit rate', 'DAP size', 'aDAP size', 'DAP purity', 'aDAP purity')\n",
    "    rownames(res) = res[,1]\n",
    "    saveRDS(res, ${_output:r})"
   ]
  }
 ],
 "metadata": {
  "kernelspec": {
   "display_name": "SoS",
   "language": "sos",
   "name": "sos"
  },
  "language_info": {
   "codemirror_mode": "sos",
   "file_extension": ".sos",
   "mimetype": "text/x-sos",
   "name": "sos",
   "nbconvert_exporter": "sos_notebook.converter.SoS_Exporter",
   "pygments_lexer": "sos"
  },
  "sos": {
   "default_kernel": "SoS",
   "kernels": [
    [
     "R",
     "ir",
     "R",
     "#DCDCDA"
    ],
    [
     "SoS",
     "sos",
     "",
     ""
    ]
   ]
  }
 },
 "nbformat": 4,
 "nbformat_minor": 2
}
