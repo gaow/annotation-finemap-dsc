{
 "cells": [
  {
   "cell_type": "markdown",
   "metadata": {
    "kernel": "SoS"
   },
   "source": [
    "# Welcome to Finemapping with Annotations!"
   ]
  },
  {
   "cell_type": "markdown",
   "metadata": {
    "kernel": "SoS"
   },
   "source": [
    "This is a DSC benchmark to evaluate how much gain in performance can be achieved in genetic fine-mapping when annotation information is used."
   ]
  },
  {
   "cell_type": "markdown",
   "metadata": {
    "kernel": "SoS"
   },
   "source": [
    "- The benchmark is coded in a single SoS notebook [here](https://gaow.github.io/annotation-finemap-dsc/analysis/dsc.html). \n",
    "    - See inside the notebook for detailed procedure including narratives and codes, and how to execute the benchmark.\n",
    "- Check-out [here](https://gaow.github.io/annotation-finemap-dsc/analysis/report.html) for the results!"
   ]
  }
 ],
 "metadata": {
  "kernelspec": {
   "display_name": "SoS",
   "language": "sos",
   "name": "sos"
  },
  "language_info": {
   "codemirror_mode": "sos",
   "file_extension": ".sos",
   "mimetype": "text/x-sos",
   "name": "sos",
   "nbconvert_exporter": "sos_notebook.converter.SoS_Exporter",
   "pygments_lexer": "sos"
  },
  "sos": {
   "default_kernel": "SoS",
   "kernels": [
    [
     "SoS",
     "sos",
     "",
     ""
    ]
   ]
  }
 },
 "nbformat": 4,
 "nbformat_minor": 2
}
