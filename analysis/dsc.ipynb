{
 "cells": [
  {
   "cell_type": "markdown",
   "metadata": {
    "kernel": "SoS"
   },
   "source": [
    "# Annotation enhanced genetic fine-mapping\n",
    "\n",
    "## Aim"
   ]
  },
  {
   "cell_type": "markdown",
   "metadata": {
    "kernel": "SoS"
   },
   "source": [
    "This simulation study compares fine-mapping with use of annotations / without it, in terms of:\n",
    "\n",
    "1. Improvements in power: the top signal from each candidate fine-mapping cluster is more likely to be the true causal signal when annotations are used.\n",
    "    - **power**: measures how many times the simulated signals (\"singals\" hereafter) are captured by fine-mapping clusters (\"clusters\" hereafter).\n",
    "    - **false discovery porportion**: measures how many clusters do not capture any signal.\n",
    "2. Improvements in fine-mapping resolution: with the use of annotations we expect to provide smaller sets of candidate SNPs than without them.\n",
    "    - **top hit rate**: measures how many times the top association from each cluster is in fact a signal.\n",
    "    - **size**: median size of clusters, smaller size means higher resolution.\n",
    "    - **purity**: average $r^2$ within clusters, higher $r^2$ means higher resolution."
   ]
  },
  {
   "cell_type": "markdown",
   "metadata": {
    "kernel": "SoS"
   },
   "source": [
    "## Simulation scheme\n",
    "\n",
    "The general idea is to simulate summary statistics enriched in genomic annotations -- because nowadays most studies work with summary statistics. We need these quantities:\n",
    "\n",
    "1. GWAS sample size, MAF and LD matrix, which can be estimated from real genotype data\n",
    "    - We estimate it from GTEx project of ~600 European samples. We use sample size of 80,000 to reflect the scale of available SCZ data.\n",
    "2. PVE and polygenicity information from literature for the phenotype of interest\n",
    "    - For SCZ the total PVE is 0.8; for the 1 million variants typically analyzed the proportion of causal is 0.006\n",
    "3. Enrichment of possibly causal variance in different genomic annotations of relevance\n",
    "    - We evaluate 5 (or 7?) atac-seq based annotations, enrichment test performed by Min Qiao"
   ]
  },
  {
   "cell_type": "markdown",
   "metadata": {
    "kernel": "SoS"
   },
   "source": [
    "### Simulation of expected z-scores\n",
    "\n",
    "We generate from standard univariate linear regression, \n",
    "\n",
    "\\begin{align}\n",
    "y=X\\beta + E, E \\sim N(0, \\sigma_a^2),\n",
    "\\end{align}\n",
    "\n",
    "where both $X$ and $y$ are centered thus absence of the intercept term. Percentage of variance explained, assuming additive polygenic effects:\n",
    "\n",
    "\\begin{align}\n",
    "PVE & = \\frac{var(X\\beta)}{var(y)} \\\\\n",
    "& = \\sum_{j\\in C} \\frac{var(X_j\\beta_j)}{var(y)} \\\\\n",
    "& = \\sum_{j\\in C} PVE_j,\n",
    "\\end{align} \n",
    "\n",
    "where $C$ is the causal set whose effects are independent, and for SCZ\n",
    "\n",
    "\\begin{align}\n",
    "PVE_j \\approx \\frac{0.8}{1~\\text{million} \\times 0.006} = 1.34\\times 10^{-4}.\n",
    "\\end{align}\n",
    "\n",
    "Assume $y$ is scaled to have unit variance. Then $PVE_j = var(X_j\\beta_j)$. For causal SNP $j$, \n",
    "\n",
    "\\begin{align}\n",
    "var(X_j\\beta_j) &= \\beta_j^2var(X_j) \\\\\n",
    "&= 2f_j(1-f_j)\\beta_j^2\n",
    "\\end{align} \n",
    "\n",
    "where $f_j$ is the causal allele frequency. The effect size is then \n",
    "\n",
    "\\begin{align}\n",
    "\\beta_j &= -1^{\\mathbb{1}[f_j<0.5]}\\sqrt{\\frac{PVE_j}{2f_j(1-f_j)}}\n",
    "\\end{align}\n",
    "\n",
    "that is, under conventional genotype coding of 0 for major and 1 for minor allele, the direction of effect size $\\beta_j$ is positive if the causal allele is a minor allele.\n",
    "\n",
    "If columns of $X$ are independent, estimate of effect size follows distribution $\\hat{\\beta}_j \\sim N(\\beta_j, \\sigma_j^2)$, where the variance for BLUE of $\\beta$,\n",
    "\n",
    "\\begin{align}\n",
    "\\sigma_j^2 &= \\frac{var(y)}{Nvar({X_j})} \\\\\n",
    "&= \\frac{1}{Nvar({X_j})} \\\\\n",
    "&= \\frac{1}{2Nf_j(1-f_j)}\n",
    "\\end{align}\n",
    "\n",
    "The sample size $N$, for SCZ GWAS study here is 80K. Hence the z-score summary statistic for causal SNP $j$ is set to\n",
    "\n",
    "\\begin{align}\n",
    "z_j &= \\frac{\\hat{\\beta}_j}{\\sigma_j} \\\\\n",
    "&= -1^{\\mathbb{1}[f_j<0.5]} \\sqrt{N \\times PVE_j} \\\\\n",
    "&= -1^{\\mathbb{1}[f_j<0.5]} \\times 3.27\n",
    "\\end{align}\n",
    "\n",
    "z-scores are zero for non-causal SNPs $j \\not\\in C$. \n",
    "\n",
    "\n",
    "**Update: the proper way to model polygenic effect is to use random effect model for SNPs, along the lines of GCTA paper, and summary statistics along the lines of RSS paper**. Let $z_j$ be the true (standardized) effect size of SNP $j$, we have the prior distribution: \n",
    "\n",
    "$$z_j \\sim (1-\\pi) \\delta_0 + \\pi N(0, \\sigma^2)$$\n",
    "\n",
    "For a causal SNP, the parameter $\\sigma^2$ is related to PVE. Assuming all SNPs contribute equally,\n",
    "\n",
    "$$PVE_j = \\frac{\\sigma^2}{N}$$\n",
    "\n",
    "so for our data $\\sigma = \\sqrt{PVE_j \\times N} = 3.27$. In my implementation below, for $j \\in C$ instead of setting it to fixed value $\\pm 3.27$, I draw it from $N(0, 3.27^2)$.\n",
    "\n",
    "### Simulation of observed z-scores\n",
    "\n",
    "In practice columns of $X$ are correlated due to LD. Observed GWAS z-scores $\\hat{z}_j$ vary randomly about expected z-scores $z_j$ (that we derived above) with variance 1 and correlation between $j_1$ and $j_2$ equal to $cor(X_{j_1}, X_{j_2})$ (Methods section of CAVIAR paper has a justification, for example). We simulate multiple observed z-scores from a multivariate normal distrubtion, $$\\hat{Z} \\sim MVN(RZ, RI)$$ where the $R$ matrix, correlation between SNPs for the simulated genomic region, is the LD matrix. $I$ is identity matrix."
   ]
  },
  {
   "cell_type": "markdown",
   "metadata": {
    "kernel": "SoS"
   },
   "source": [
    "### Simulation of causal signals\n",
    "\n",
    "For simplicity we create 2,090 arbitrary chunks of genomic regions (fine-mapping analysis units) each containing 500 SNPs. That is, 2,090 simulations of different underlying LD structure. Each unit should have one or more LD blocks. We assume one causal variant per unit. The exact positions these causal variants occur are associated with genomic annotations. \n",
    "\n",
    "Suppose we have $K$ non-overlapping, independent annotation regions. Let $p_k$ and $p_0$ denote causal probability of SNPs inside and outside annotation $k$'s region.\n",
    "\n",
    "\\begin{align}\n",
    "\\gamma_k & = \\frac{p_k/1-p_k}{p_0/1-p_0} \\\\\n",
    "L & = [\\sum_k q_kp_k + (1-\\sum_k q_k)p_0] \\times M\n",
    "\\end{align}\n",
    "\n",
    "where $\\gamma_k$ is the odds ratio for annotation $k$ obtained from enrichment analysis, $L$ is the number of causal variants in the region ($L = 1$), $M$ is length of the region ($M=500$), $q$ is proportion of region overl apping with functional annotations (see choice of $q$ below for two types of annotations).\n",
    "\n",
    "#### atac-seq annotations\n",
    "\n",
    "From previous enrichment analysis of 5 atac-seq annotations we estimate enrichment of GWAS signals in these regions with odds ratios ranging from 3.70 to 6.02, with mean 4.74. We can try $\\gamma_1 = 3, 5, 7$. The 5 annotations, when combined, physically cover a total of 13.36% of the genome. The average size of the combined peaks is 576; thus iff we assume uniform distribution of peaks over the uniformally distributed 1 million variants we test the consective annotated region should be less than 1. In that case we'll simply assign 13.36% variants in an analysis unit to fall in the annotation, without worrying about their consectiveness.\n",
    "\n",
    "#### Allele-specific chromatin accessability (ASCA) annotations\n",
    "\n",
    "From previous enrichment analysis of ASCA we have odds ratio of $\\gamma_2 = 55$ for ASCA variants with FDR < 0.05. On average 5% variants in each atac-seq peak are ASCA. To add in this annotation, for simplicity we now assume 12.69% variants are atac-seq annotations, 0.66% are ASCA."
   ]
  },
  {
   "cell_type": "markdown",
   "metadata": {
    "kernel": "SoS"
   },
   "source": [
    "## Fine-mapping method\n",
    "\n",
    "We use DAP-G to analyze the data. We run and compare two versions of DAP-G: one that uses the \"oracle\" prior from enrichment based simulation, one uses uniform priors.\n",
    "\n",
    "To speed up DAP computations we set its `-msize` parameter to the oracle number $L$."
   ]
  },
  {
   "cell_type": "markdown",
   "metadata": {
    "kernel": "SoS"
   },
   "source": [
    "## DSC benchmark\n",
    "\n",
    "Simulate study is implemented in DSC framework. Input data are just matrices of genotypes.\n",
    "\n",
    "To run the benchmark, first click inside SoS notebook \"restart kernel and run all\" botton. Then run the exported scripts with 8 CPU threads:\n",
    "\n",
    "```\n",
    "dsc master.dsc -c 8\n",
    "```"
   ]
  },
  {
   "cell_type": "markdown",
   "metadata": {
    "kernel": "SoS"
   },
   "source": [
    "### `zzz.dsc`"
   ]
  },
  {
   "cell_type": "code",
   "execution_count": 1,
   "metadata": {
    "kernel": "SoS"
   },
   "outputs": [
    {
     "data": {
      "text/html": [
       "<div class=\"sos_hint\">Cell content saved to <a href=\"modules/zzz.dsc\" target=\"_blank\">modules/zzz.dsc</a></div>"
      ],
      "text/plain": [
       "Cell content saved to modules/zzz.dsc\n"
      ]
     },
     "metadata": {},
     "output_type": "display_data"
    }
   ],
   "source": [
    "%save -f modules/zzz.dsc\n",
    "%include modules/simulate_region\n",
    "%include modules/simulate_z\n",
    "%include modules/fit\n",
    "%include modules/evaluate"
   ]
  },
  {
   "cell_type": "markdown",
   "metadata": {
    "kernel": "SoS"
   },
   "source": [
    "### `master.dsc`"
   ]
  },
  {
   "cell_type": "code",
   "execution_count": 14,
   "metadata": {
    "kernel": "SoS"
   },
   "outputs": [
    {
     "data": {
      "text/html": [
       "<div class=\"sos_hint\">Cell content saved to <a href=\"master.dsc\" target=\"_blank\">master.dsc</a></div>"
      ],
      "text/plain": [
       "Cell content saved to master.dsc\n"
      ]
     },
     "metadata": {},
     "output_type": "display_data"
    }
   ],
   "source": [
    "%save -f master.dsc\n",
    "#!/usr/bin/env dsc\n",
    "%include modules/zzz\n",
    "\n",
    "DSC:\n",
    "    define:\n",
    "        fit: dap, dapa\n",
    "    # FIXME: I should run 2 separate pipelines for dap and dap\n",
    "    # because dap only runs one scenario but dapa runs multiple\n",
    "    # now I in fact run the same dap multiple times; but i can live with it\n",
    "    # because dap is really fast in this simulation and the result is easier to parse\n",
    "    # with this DSC logic.\n",
    "    run: sample_region * simulate_prior * simulate_z * fit * evaluate\n",
    "    exec_path: modules\n",
    "    global:\n",
    "        data_file: gtex-manifest.txt\n",
    "        n_units: 150\n",
    "        unit_length: 500\n",
    "    output: xh_grant"
   ]
  },
  {
   "cell_type": "markdown",
   "metadata": {
    "kernel": "SoS"
   },
   "source": [
    "### `simulate_region.dsc`"
   ]
  },
  {
   "cell_type": "code",
   "execution_count": 3,
   "metadata": {
    "kernel": "SoS"
   },
   "outputs": [
    {
     "data": {
      "text/html": [
       "<div class=\"sos_hint\">Cell content saved to <a href=\"modules/simulate_region.dsc\" target=\"_blank\">modules/simulate_region.dsc</a></div>"
      ],
      "text/plain": [
       "Cell content saved to modules/simulate_region.dsc\n"
      ]
     },
     "metadata": {},
     "output_type": "display_data"
    }
   ],
   "source": [
    "%save -f modules/simulate_region.dsc\n",
    "\n",
    "sample_region: sim_region.R + R(data = readRDS(dataset);\n",
    "                                X = get_loci(data$X, M);\n",
    "                                R = lapply(1:length(X), function(i) round(cor(X[[i]]),4));\n",
    "                                eff_sign = get_sign(X);\n",
    "                                status = lapply(1:length(R), function(i) write.table(R[[i]],paste0(ld_file, '.', i),quote=F,col.names=F,row.names=F)))                           \n",
    "  dataset: Shell{head -${n_units} ${data_file}}\n",
    "  M: ${unit_length}\n",
    "  $eff_sign: eff_sign\n",
    "  $R: R\n",
    "  $ld_file: file(ld)\n",
    "\n",
    "simulate_prior: sim_region.R + R(prior = get_prior(M, eparam[[1]], eparam[[2]]))\n",
    "  M: ${unit_length}\n",
    "  # enrichment parameters:\n",
    "  # should be (gamma, p) where gamma is a vector of odds ratios, p is the corresponding vector of proportions of annotated regions\n",
    "  eparam: ((3, 55), (0.1269, 0.00668)), ((5, 55), (0.1269, 0.00668)), ((7, 55), (0.1269, 0.00668)), (3, 0.1336), (5, 0.1336), (7, 0.1336)\n",
    "  $prior: prior$prior\n",
    "  $annotation: prior$annotation"
   ]
  },
  {
   "cell_type": "markdown",
   "metadata": {
    "kernel": "SoS"
   },
   "source": [
    "### `simulate_z.dsc`"
   ]
  },
  {
   "cell_type": "code",
   "execution_count": 4,
   "metadata": {
    "kernel": "SoS"
   },
   "outputs": [
    {
     "data": {
      "text/html": [
       "<div class=\"sos_hint\">Cell content saved to <a href=\"modules/simulate_z.dsc\" target=\"_blank\">modules/simulate_z.dsc</a></div>"
      ],
      "text/plain": [
       "Cell content saved to modules/simulate_z.dsc\n"
      ]
     },
     "metadata": {},
     "output_type": "display_data"
    }
   ],
   "source": [
    "%save -f modules/simulate_z.dsc\n",
    "simulate_z: sim_z.py + Python(z, z_true, L = simulate(R, N, pve, eff_sign, n_signal, prior))\n",
    "  R: $R\n",
    "  eff_sign: $eff_sign\n",
    "  prior: $prior\n",
    "  N: 80000\n",
    "  n_signal: 1\n",
    "  pve: 1.34E-4\n",
    "  $z: z\n",
    "  $z_true: z_true\n",
    "  $L: L"
   ]
  },
  {
   "cell_type": "markdown",
   "metadata": {
    "kernel": "SoS"
   },
   "source": [
    "### `fit.dsc`"
   ]
  },
  {
   "cell_type": "code",
   "execution_count": 5,
   "metadata": {
    "kernel": "SoS"
   },
   "outputs": [
    {
     "data": {
      "text/html": [
       "<div class=\"sos_hint\">Cell content saved to <a href=\"modules/fit.dsc\" target=\"_blank\">modules/fit.dsc</a></div>"
      ],
      "text/plain": [
       "Cell content saved to modules/fit.dsc\n"
      ]
     },
     "metadata": {},
     "output_type": "display_data"
    }
   ],
   "source": [
    "%save -f modules/fit.dsc\n",
    "\n",
    "dap: fit_dap.py + Python(posterior = dap_batch_z(z, ld, L, cache, None, args))\n",
    "  ld: $ld_file\n",
    "  z: $z\n",
    "  L: $L\n",
    "  args: \"-ld_control 0.20 --all\"\n",
    "  cache: file(DAP)\n",
    "  $posterior: posterior\n",
    "\n",
    "dapa(dap): fit_dap.py + Python(posterior = dap_batch_z(z, ld, L, cache, prior, args))\n",
    "  prior: $prior"
   ]
  },
  {
   "cell_type": "markdown",
   "metadata": {
    "kernel": "SoS"
   },
   "source": [
    "### `evaluate.dsc`"
   ]
  },
  {
   "cell_type": "code",
   "execution_count": 6,
   "metadata": {
    "kernel": "SoS"
   },
   "outputs": [
    {
     "data": {
      "text/html": [
       "<div class=\"sos_hint\">Cell content saved to <a href=\"modules/evaluate.dsc\" target=\"_blank\">modules/evaluate.dsc</a></div>"
      ],
      "text/plain": [
       "Cell content saved to modules/evaluate.dsc\n"
      ]
     },
     "metadata": {},
     "output_type": "display_data"
    }
   ],
   "source": [
    "%save -f modules/evaluate.dsc\n",
    "\n",
    "evaluate: evaluate_dap.py\n",
    "  z_true: $z_true\n",
    "  posterior: $posterior\n",
    "  $is_recovered: is_recovered\n",
    "  $is_cs_true: is_cs_true\n",
    "  $is_top_true: is_top_true\n",
    "  $size: size\n",
    "  $purity: purity"
   ]
  },
  {
   "cell_type": "markdown",
   "metadata": {
    "kernel": "SoS"
   },
   "source": [
    "## Code for Simulation"
   ]
  },
  {
   "cell_type": "markdown",
   "metadata": {
    "kernel": "SoS"
   },
   "source": [
    "### `sim_region.R`\n",
    "\n",
    "To simulate priors for every SNP we need to determine $p_0$ and $p_k$. From equations above, for $L=1$ we derive:\n",
    "\n",
    "\\begin{align}\n",
    "p_k = \\frac{\\gamma_k p_0}{1 - p_0 + \\gamma_k p_0} \\\\\n",
    "[\\sum_k q_k \\frac{\\gamma_k p_0}{1 - p_0 + \\gamma_k p_0} + (1-\\sum_k q_k)p_0] \\times M - 1 = 0\n",
    "\\end{align}\n",
    "\n",
    "We can solve this numerically in R, eg:"
   ]
  },
  {
   "cell_type": "code",
   "execution_count": 7,
   "metadata": {
    "kernel": "R"
   },
   "outputs": [
    {
     "name": "stdout",
     "output_type": "stream",
     "text": [
      "[1] 0.001125165 0.005043379 0.058339412\n"
     ]
    }
   ],
   "source": [
    "g = c(4.5, 55)\n",
    "M = 500\n",
    "q = c(0.1269, 0.0066)\n",
    "foo = function(x) M * (sum(q * g * x / (1 - x + g * x)) + (1 - sum(q)) * x) - 1\n",
    "p0 = uniroot(foo, lower=0, upper=1, tol = .Machine$double.eps^0.8)$root\n",
    "p1 = g * p0 / (1-p0+g*p0)\n",
    "print(c(p0, p1))"
   ]
  },
  {
   "cell_type": "code",
   "execution_count": 8,
   "metadata": {
    "kernel": "R"
   },
   "outputs": [
    {
     "name": "stdout",
     "output_type": "stream",
     "text": [
      "[1]  4.5 55.0\n",
      "[1] 1\n"
     ]
    }
   ],
   "source": [
    "# verify it:\n",
    "print(p1/(1-p1) / (p0 / (1-p0)))\n",
    "print(M * (sum(q * p1) + (1-sum(q)) * p0))"
   ]
  },
  {
   "cell_type": "markdown",
   "metadata": {
    "kernel": "SoS"
   },
   "source": [
    "These probabilities recover the odds ratio, so we should be good. I'll use it in my codes below."
   ]
  },
  {
   "cell_type": "code",
   "execution_count": 9,
   "metadata": {
    "kernel": "R"
   },
   "outputs": [
    {
     "data": {
      "text/html": [
       "<div class=\"sos_hint\">Cell content saved to <a href=\"modules/sim_region.R\" target=\"_blank\">modules/sim_region.R</a></div>"
      ],
      "text/plain": [
       "Cell content saved to modules/sim_region.R\n"
      ]
     },
     "metadata": {},
     "output_type": "display_data"
    }
   ],
   "source": [
    "%save -f modules/sim_region.R\n",
    "get_loci = function(X, N) {\n",
    "    segs = floor(ncol(X) / N)\n",
    "    lapply(1:segs, function(i) X[,i:(i+N-1)])\n",
    "}\n",
    "get_prior = function(M, g, q) {\n",
    "    foo = function(x) M * (sum(q * g * x / (1 - x + g * x)) + (1 - sum(q)) * x) - 1\n",
    "    p0 = uniroot(foo, lower=0, upper=1, tol = .Machine$double.eps^0.8)$root\n",
    "    p1 = g * p0 / (1-p0+g*p0)\n",
    "    n_anns = floor(M * q)\n",
    "    annotated = lapply(1:length(n_anns), function(i) sample(c(rep(1,n_anns[i]), rep(0, M - n_anns[i]))))\n",
    "    prior = rep(p0, M)\n",
    "    annotation = rep(0, M)\n",
    "    for (i in 1:length(p1)) {\n",
    "        prior[which(annotated[[i]] == 1)] = p1[i]\n",
    "        annotation = annotation + annotated[[i]]\n",
    "    }\n",
    "    list(prior=prior, annotation=annotation)   \n",
    "}\n",
    "get_sign = function(X) {\n",
    "    lapply(1:length(X), function(i) apply(X[[i]], 2, function(x) (-1)^as.integer((mean(x)/2) > 0.5)))\n",
    "}"
   ]
  },
  {
   "cell_type": "markdown",
   "metadata": {
    "kernel": "SoS"
   },
   "source": [
    "### `sim_z.py`"
   ]
  },
  {
   "cell_type": "code",
   "execution_count": 10,
   "metadata": {
    "kernel": "Python3"
   },
   "outputs": [
    {
     "data": {
      "text/html": [
       "<div class=\"sos_hint\">Cell content saved to <a href=\"modules/sim_z.py\" target=\"_blank\">modules/sim_z.py</a></div>"
      ],
      "text/plain": [
       "Cell content saved to modules/sim_z.py\n"
      ]
     },
     "metadata": {},
     "output_type": "display_data"
    }
   ],
   "source": [
    "%save -f modules/sim_z.py\n",
    "import numpy as np\n",
    "\n",
    "def sim_gwas_z(R, N, pve, eff_sign, n_signal, prior):\n",
    "    np.random.seed(int(np.sum(np.array(R))))\n",
    "    # get expected z-score assuming all causal\n",
    "    # it really does not matter to our purpose whether Z is positive or negative\n",
    "    # because it is only a matter of allele coding ...\n",
    "    z_true = np.random.normal(0, np.sqrt(N * pve)) * eff_sign\n",
    "    # sparsify expected z-score to allow for n_signal causal\n",
    "    # FIXME: might overlap if some prior is very high; \n",
    "    # thus not gauranteed to have exactly n_signal non-zeros\n",
    "    # but it is quite convenient to call this function\n",
    "    z_true *= np.random.multinomial(n_signal, prior)\n",
    "    # get observed z-scores\n",
    "    z = np.random.multivariate_normal(np.ravel(R @ z_true), R)\n",
    "    return z, z_true\n",
    "\n",
    "def simulate(R, N, pve, eff_sign, n_signal, prior):\n",
    "    z_true = {k:[] for k in R}\n",
    "    z = {k:[] for k in R}\n",
    "    for k in R:\n",
    "        z[k], z_true[k] = sim_gwas_z(R[k], N, pve, eff_sign[k], n_signal, prior)\n",
    "    return z, z_true, {k: sum(z_true[k]!=0) for k in z_true}"
   ]
  },
  {
   "cell_type": "markdown",
   "metadata": {
    "kernel": "SoS"
   },
   "source": [
    "## Fine-mapping with DAP"
   ]
  },
  {
   "cell_type": "markdown",
   "metadata": {
    "kernel": "SoS"
   },
   "source": [
    "### `fit_dap.py`"
   ]
  },
  {
   "cell_type": "markdown",
   "metadata": {
    "kernel": "SoS"
   },
   "source": [
    "Below is example output for DAP-G:\n",
    "\n",
    "```\n",
    "Posterior expected model size: 0.500 (sd = 0.500)\n",
    "LogNC = -0.30685 ( Log10NC = -0.133 )\n",
    "Posterior inclusion probability\n",
    "\n",
    "((1))              7492 6.68581e-05       0.000 1\n",
    "((2))              7490 6.68581e-05       0.000 1\n",
    "... 7 lines\n",
    "((8))              7491 6.68046e-05       0.000 2\n",
    "((9))              7483 6.68046e-05       0.000 2\n",
    "((10))             7485 6.68046e-05       0.000 2\n",
    "... 13 lines\n",
    "((20))             7459 6.68046e-05       0.000 2\n",
    "((21))             7482 6.67422e-05       0.000 -1\n",
    "((22))             7489 6.67422e-05       0.000 -1\n",
    "... other lines until below ...\n",
    "\n",
    "Independent association signal clusters\n",
    "\n",
    "     cluster         member_snp      cluster_pip      average_r2\n",
    "       {1}              7            4.680e-04          0.951                 0.951   0.037\n",
    "       {2}             13            8.685e-04          0.623                 0.037   0.623\n",
    "\n",
    "```"
   ]
  },
  {
   "cell_type": "code",
   "execution_count": 11,
   "metadata": {
    "kernel": "Python3"
   },
   "outputs": [
    {
     "data": {
      "text/html": [
       "<div class=\"sos_hint\">Cell content saved to <a href=\"modules/fit_dap.py\" target=\"_blank\">modules/fit_dap.py</a></div>"
      ],
      "text/plain": [
       "Cell content saved to modules/fit_dap.py\n"
      ]
     },
     "metadata": {},
     "output_type": "display_data"
    }
   ],
   "source": [
    "%save -f modules/fit_dap.py\n",
    "import subprocess\n",
    "import pandas as pd\n",
    "import numpy as np\n",
    "\n",
    "def write_dap_z(z, prefix):\n",
    "    '''z-score vesion of dap input is the same as FINEMAP'''\n",
    "    ids = np.array([str(i+1) for i in range(z.shape[0])])\n",
    "    with open(f'{prefix}.z', 'w') as f:\n",
    "        np.savetxt(f,  np.vstack((ids, z)).T, fmt = '%s', delimiter = ' ')\n",
    "\n",
    "def write_prior(prior, prefix):\n",
    "    with open(f'{prefix}.prior', 'w') as f:\n",
    "        f.write('\\n'.join([f'{i+1}\\t{p}' for i, p in enumerate(prior)]))\n",
    "\n",
    "def run_dap_z(ld, r, L, prior, prefix, args):\n",
    "    cmd = ['dap-g', '-d_z', f'{prefix}.z', '-d_ld', f'{ld}.{r}', '-o', f'{prefix}.result', '--output_all'] + ' '.join(args).split()\n",
    "    if prior is not None:\n",
    "        cmd.extend(['-p', f'{prefix}.prior'])\n",
    "    if L > 0:\n",
    "        cmd.extend(['-msize', str(L)])\n",
    "    subprocess.Popen(cmd, stdout=subprocess.PIPE, stderr=subprocess.PIPE).communicate()    \n",
    "    \n",
    "def extract_dap_output(prefix):\n",
    "    out = [x.strip().split() for x in open(f'{prefix}.result').readlines()]\n",
    "    pips = []\n",
    "    clusters = []\n",
    "    still_pip = True\n",
    "    for line in out:\n",
    "        if len(line) == 0:\n",
    "            continue\n",
    "        if len(line) > 2 and line[2] == 'cluster_pip':\n",
    "            still_pip = False\n",
    "            continue\n",
    "        if still_pip and (not line[0].startswith('((')):\n",
    "            continue\n",
    "        if still_pip:\n",
    "            pips.append([line[1], float(line[2]), float(line[3]), int(line[4])])\n",
    "        else:\n",
    "            clusters.append([len(clusters) + 1, float(line[2]), float(line[3])])\n",
    "    pips = pd.DataFrame(pips, columns = ['snp', 'snp_prob', 'snp_log10bf', 'cluster'])\n",
    "    clusters = pd.DataFrame(clusters, columns = ['cluster', 'cluster_prob', 'cluster_avg_r2'])\n",
    "    clusters = pd.merge(clusters, pips.groupby(['cluster'])['snp'].apply(','.join).reset_index(), on = 'cluster')\n",
    "    return {'snp': pips, 'set': clusters}\n",
    "\n",
    "def dap_single_z(z, ld, L, prefix, r, prior, args):\n",
    "    write_dap_z(z,prefix)\n",
    "    if prior is not None:\n",
    "        write_prior(prior, prefix)\n",
    "    run_dap_z(ld, r, L, prior, prefix, args)\n",
    "    return extract_dap_output(prefix)\n",
    "\n",
    "\n",
    "def dap_batch_z(Z, ld, L, prefix, prior, *args):\n",
    "    return dict([(k, dap_single_z(Z[k], ld, L[k], f'{prefix}_condition_{k}', k, prior, args)) for k in Z])"
   ]
  },
  {
   "cell_type": "markdown",
   "metadata": {
    "kernel": "SoS"
   },
   "source": [
    "## Evaluate results\n",
    "### `evaluate.py`"
   ]
  },
  {
   "cell_type": "code",
   "execution_count": 12,
   "metadata": {
    "kernel": "Python3"
   },
   "outputs": [
    {
     "data": {
      "text/html": [
       "<div class=\"sos_hint\">Cell content saved to <a href=\"modules/evaluate_dap.py\" target=\"_blank\">modules/evaluate_dap.py</a></div>"
      ],
      "text/plain": [
       "Cell content saved to modules/evaluate_dap.py\n"
      ]
     },
     "metadata": {},
     "output_type": "display_data"
    }
   ],
   "source": [
    "%save -f modules/evaluate_dap.py\n",
    "def dap_summary(cluster, snp, z_true):\n",
    "    signal_expected = [f'{idx+1}' for idx, i in enumerate(z_true) if i != 0]\n",
    "    cluster = cluster.loc[cluster['cluster_prob'] > 0.95]\n",
    "    if cluster.shape[0] == 0:\n",
    "        return [\"failed\"] * 5\n",
    "    # to return\n",
    "    purity = cluster['cluster_prob'].tolist()\n",
    "    cluster = [x.split(',') for x in cluster['snp']]\n",
    "    signal_detected = sum(cluster, [])\n",
    "    # to return\n",
    "    size = [len(c) for c in cluster]\n",
    "    snp = [snp.loc[snp['snp'].isin(c)] for c in cluster]\n",
    "    top_snp = [s.loc[s['snp_prob'] == max(s['snp_prob'])]['snp'].tolist()[0] for s in snp]\n",
    "    # to return\n",
    "    is_top_true = [1 if x in signal_expected else 0 for x in top_snp]\n",
    "    # to return\n",
    "    is_recovered = [1 if x in signal_detected else 0 for x in signal_expected]\n",
    "    # to return\n",
    "    is_cs_true = [1 if len(set(x).intersection(signal_expected)) else 0 for x in cluster]\n",
    "    return is_recovered, is_cs_true, is_top_true, size, purity\n",
    "\n",
    "is_recovered = dict()\n",
    "is_cs_true = dict()\n",
    "is_top_true = dict()\n",
    "size = dict()\n",
    "purity = dict()\n",
    "for k in posterior:\n",
    "    is_recovered[k], is_cs_true[k], is_top_true[k], size[k], purity[k] = dap_summary(posterior[k]['set'], posterior[k]['snp'], z_true[k])"
   ]
  }
 ],
 "metadata": {
  "kernelspec": {
   "display_name": "SoS",
   "language": "sos",
   "name": "sos"
  },
  "language_info": {
   "codemirror_mode": "sos",
   "file_extension": ".sos",
   "mimetype": "text/x-sos",
   "name": "sos",
   "nbconvert_exporter": "sos_notebook.converter.SoS_Exporter",
   "pygments_lexer": "sos"
  },
  "sos": {
   "default_kernel": "SoS",
   "kernels": [
    [
     "Python3",
     "python3",
     "Python3",
     "#FFE771"
    ],
    [
     "R",
     "ir",
     "R",
     "#DCDCDA"
    ],
    [
     "SoS",
     "sos",
     "",
     ""
    ]
   ],
   "panel": {
    "displayed": true,
    "height": 0,
    "style": "side"
   },
   "version": "0.9.16.4"
  }
 },
 "nbformat": 4,
 "nbformat_minor": 2
}
